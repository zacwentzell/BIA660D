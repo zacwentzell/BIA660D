{
 "cells": [
  {
   "cell_type": "code",
   "execution_count": 1,
   "metadata": {},
   "outputs": [],
   "source": [
    "import nltk\n",
    "import spacy\n",
    "\n",
    "nlp = spacy.load('en')"
   ]
  },
  {
   "cell_type": "code",
   "execution_count": 2,
   "metadata": {},
   "outputs": [
    {
     "name": "stdout",
     "output_type": "stream",
     "text": [
      "showing info https://raw.githubusercontent.com/nltk/nltk_data/gh-pages/index.xml\n"
     ]
    }
   ],
   "source": [
    "%%python\n",
    "import nltk\n",
    "nltk.download()"
   ]
  },
  {
   "cell_type": "code",
   "execution_count": 3,
   "metadata": {},
   "outputs": [],
   "source": [
    "text = \"\"\"Each autumn, businesses flock to elite universities like Harvard and Stanford to recruit engineers for their first post-university jobs. Curious students pile into classrooms to hear recruiters deliver their best pitches. These are the first moments when prospective employees size up a company’s culture and assess whether they can see themselves reflected in its future.\"\"\""
   ]
  },
  {
   "cell_type": "markdown",
   "metadata": {},
   "source": [
    "## Tokenization"
   ]
  },
  {
   "cell_type": "markdown",
   "metadata": {},
   "source": [
    "### Sentence Tokenization"
   ]
  },
  {
   "cell_type": "markdown",
   "metadata": {},
   "source": [
    "##### Using spaCy"
   ]
  },
  {
   "cell_type": "code",
   "execution_count": 4,
   "metadata": {},
   "outputs": [],
   "source": [
    "doc = nlp(text)"
   ]
  },
  {
   "cell_type": "code",
   "execution_count": 5,
   "metadata": {},
   "outputs": [
    {
     "name": "stdout",
     "output_type": "stream",
     "text": [
      "0 <class 'spacy.tokens.span.Span'> Each autumn, businesses flock to elite universities like Harvard and Stanford to recruit engineers for their first post-university jobs. \n",
      "\n",
      "1 <class 'spacy.tokens.span.Span'> Curious students pile into classrooms to hear recruiters deliver their best pitches. \n",
      "\n",
      "2 <class 'spacy.tokens.span.Span'> These are the first moments when prospective employees size up a company’s culture and assess whether they can see themselves reflected in its future. \n",
      "\n"
     ]
    }
   ],
   "source": [
    "#sentence spans (an iterable object, like a list, of tokens) are available via the sents attribute\n",
    "for index, sent in enumerate(doc.sents):\n",
    "    print(index, type(sent), sent, '\\n')"
   ]
  },
  {
   "cell_type": "code",
   "execution_count": 6,
   "metadata": {},
   "outputs": [],
   "source": [
    "spacy_sents = list(doc.sents)"
   ]
  },
  {
   "cell_type": "markdown",
   "metadata": {},
   "source": [
    "##### Using NLTK"
   ]
  },
  {
   "cell_type": "code",
   "execution_count": 7,
   "metadata": {},
   "outputs": [],
   "source": [
    "from nltk import sent_tokenize"
   ]
  },
  {
   "cell_type": "code",
   "execution_count": 8,
   "metadata": {},
   "outputs": [
    {
     "name": "stdout",
     "output_type": "stream",
     "text": [
      "0 <class 'str'> Each autumn, businesses flock to elite universities like Harvard and Stanford to recruit engineers for their first post-university jobs. \n",
      "\n",
      "1 <class 'str'> Curious students pile into classrooms to hear recruiters deliver their best pitches. \n",
      "\n",
      "2 <class 'str'> These are the first moments when prospective employees size up a company’s culture and assess whether they can see themselves reflected in its future. \n",
      "\n"
     ]
    }
   ],
   "source": [
    "for index, sent in enumerate(sent_tokenize(text)):\n",
    "    print(index, type(sent), sent, '\\n')"
   ]
  },
  {
   "cell_type": "code",
   "execution_count": 9,
   "metadata": {},
   "outputs": [],
   "source": [
    "nltk_sents = sent_tokenize(text)"
   ]
  },
  {
   "cell_type": "markdown",
   "metadata": {},
   "source": [
    "### Word Tokenization"
   ]
  },
  {
   "cell_type": "markdown",
   "metadata": {},
   "source": [
    "##### spaCy"
   ]
  },
  {
   "cell_type": "code",
   "execution_count": 10,
   "metadata": {},
   "outputs": [
    {
     "name": "stdout",
     "output_type": "stream",
     "text": [
      "0 <class 'spacy.tokens.token.Token'> Each\n",
      "1 <class 'spacy.tokens.token.Token'> autumn\n",
      "2 <class 'spacy.tokens.token.Token'> ,\n",
      "3 <class 'spacy.tokens.token.Token'> businesses\n",
      "4 <class 'spacy.tokens.token.Token'> flock\n",
      "5 <class 'spacy.tokens.token.Token'> to\n",
      "6 <class 'spacy.tokens.token.Token'> elite\n",
      "7 <class 'spacy.tokens.token.Token'> universities\n",
      "8 <class 'spacy.tokens.token.Token'> like\n",
      "9 <class 'spacy.tokens.token.Token'> Harvard\n",
      "10 <class 'spacy.tokens.token.Token'> and\n",
      "11 <class 'spacy.tokens.token.Token'> Stanford\n",
      "12 <class 'spacy.tokens.token.Token'> to\n",
      "13 <class 'spacy.tokens.token.Token'> recruit\n",
      "14 <class 'spacy.tokens.token.Token'> engineers\n",
      "15 <class 'spacy.tokens.token.Token'> for\n",
      "16 <class 'spacy.tokens.token.Token'> their\n",
      "17 <class 'spacy.tokens.token.Token'> first\n",
      "18 <class 'spacy.tokens.token.Token'> post\n",
      "19 <class 'spacy.tokens.token.Token'> -\n",
      "20 <class 'spacy.tokens.token.Token'> university\n",
      "21 <class 'spacy.tokens.token.Token'> jobs\n",
      "22 <class 'spacy.tokens.token.Token'> .\n"
     ]
    }
   ],
   "source": [
    "for index, token in enumerate(spacy_sents[0]):\n",
    "    print(index, type(token), token)"
   ]
  },
  {
   "cell_type": "markdown",
   "metadata": {},
   "source": [
    "##### NLTK"
   ]
  },
  {
   "cell_type": "code",
   "execution_count": 11,
   "metadata": {},
   "outputs": [],
   "source": [
    "from nltk import word_tokenize"
   ]
  },
  {
   "cell_type": "code",
   "execution_count": 12,
   "metadata": {},
   "outputs": [
    {
     "name": "stdout",
     "output_type": "stream",
     "text": [
      "0 <class 'str'> Each\n",
      "1 <class 'str'> autumn\n",
      "2 <class 'str'> ,\n",
      "3 <class 'str'> businesses\n",
      "4 <class 'str'> flock\n",
      "5 <class 'str'> to\n",
      "6 <class 'str'> elite\n",
      "7 <class 'str'> universities\n",
      "8 <class 'str'> like\n",
      "9 <class 'str'> Harvard\n",
      "10 <class 'str'> and\n",
      "11 <class 'str'> Stanford\n",
      "12 <class 'str'> to\n",
      "13 <class 'str'> recruit\n",
      "14 <class 'str'> engineers\n",
      "15 <class 'str'> for\n",
      "16 <class 'str'> their\n",
      "17 <class 'str'> first\n",
      "18 <class 'str'> post-university\n",
      "19 <class 'str'> jobs\n",
      "20 <class 'str'> .\n"
     ]
    }
   ],
   "source": [
    "for index, token in enumerate(word_tokenize(nltk_sents[0])):\n",
    "    print(index, type(token), token)"
   ]
  },
  {
   "cell_type": "code",
   "execution_count": 13,
   "metadata": {},
   "outputs": [],
   "source": [
    "nltk_tokens = word_tokenize(nltk_sents[0])"
   ]
  },
  {
   "cell_type": "markdown",
   "metadata": {},
   "source": [
    "##### using Regular Expressions (regex)"
   ]
  },
  {
   "cell_type": "code",
   "execution_count": 14,
   "metadata": {},
   "outputs": [],
   "source": [
    "import re"
   ]
  },
  {
   "cell_type": "code",
   "execution_count": 15,
   "metadata": {},
   "outputs": [],
   "source": [
    "WORDS_RE = re.compile(r'\\W+')"
   ]
  },
  {
   "cell_type": "code",
   "execution_count": 16,
   "metadata": {},
   "outputs": [
    {
     "name": "stdout",
     "output_type": "stream",
     "text": [
      "0 <class 'str'> Each\n",
      "1 <class 'str'> autumn\n",
      "2 <class 'str'> businesses\n",
      "3 <class 'str'> flock\n",
      "4 <class 'str'> to\n",
      "5 <class 'str'> elite\n",
      "6 <class 'str'> universities\n",
      "7 <class 'str'> like\n",
      "8 <class 'str'> Harvard\n",
      "9 <class 'str'> and\n",
      "10 <class 'str'> Stanford\n",
      "11 <class 'str'> to\n",
      "12 <class 'str'> recruit\n",
      "13 <class 'str'> engineers\n",
      "14 <class 'str'> for\n",
      "15 <class 'str'> their\n",
      "16 <class 'str'> first\n",
      "17 <class 'str'> post\n",
      "18 <class 'str'> university\n",
      "19 <class 'str'> jobs\n",
      "20 <class 'str'> \n"
     ]
    }
   ],
   "source": [
    "for index, token in enumerate(re.split(WORDS_RE, nltk_sents[0])):\n",
    "    print(index, type(token), token)"
   ]
  },
  {
   "cell_type": "markdown",
   "metadata": {},
   "source": [
    "But we lost the punctuation and we have emtpy strings."
   ]
  },
  {
   "cell_type": "code",
   "execution_count": 17,
   "metadata": {},
   "outputs": [],
   "source": [
    "WORDS_AND_PUNCT_RE = re.compile(r'\\w+|[\\,\\.\\!\\?\\-]')"
   ]
  },
  {
   "cell_type": "code",
   "execution_count": 18,
   "metadata": {},
   "outputs": [
    {
     "name": "stdout",
     "output_type": "stream",
     "text": [
      "0 <class 'str'> Each\n",
      "1 <class 'str'> autumn\n",
      "2 <class 'str'> ,\n",
      "3 <class 'str'> businesses\n",
      "4 <class 'str'> flock\n",
      "5 <class 'str'> to\n",
      "6 <class 'str'> elite\n",
      "7 <class 'str'> universities\n",
      "8 <class 'str'> like\n",
      "9 <class 'str'> Harvard\n",
      "10 <class 'str'> and\n",
      "11 <class 'str'> Stanford\n",
      "12 <class 'str'> to\n",
      "13 <class 'str'> recruit\n",
      "14 <class 'str'> engineers\n",
      "15 <class 'str'> for\n",
      "16 <class 'str'> their\n",
      "17 <class 'str'> first\n",
      "18 <class 'str'> post\n",
      "19 <class 'str'> -\n",
      "20 <class 'str'> university\n",
      "21 <class 'str'> jobs\n",
      "22 <class 'str'> .\n"
     ]
    }
   ],
   "source": [
    "for index, token in enumerate(re.findall(WORDS_AND_PUNCT_RE, nltk_sents[0])):\n",
    "    print(index, type(token), token)"
   ]
  },
  {
   "cell_type": "markdown",
   "metadata": {},
   "source": [
    "See [this tutorial](https://www.datacamp.com/community/tutorials/python-regular-expression-tutorial) to learn more about regular expressions and visit [pythex.org](www.pythex.org) to play around."
   ]
  },
  {
   "cell_type": "markdown",
   "metadata": {},
   "source": [
    "# Part of Speech (POS) Tagging"
   ]
  },
  {
   "cell_type": "markdown",
   "metadata": {},
   "source": [
    "##### spaCy"
   ]
  },
  {
   "cell_type": "markdown",
   "metadata": {},
   "source": [
    "The best part about spaCy is it does everything for you right out of the box"
   ]
  },
  {
   "cell_type": "code",
   "execution_count": 19,
   "metadata": {},
   "outputs": [
    {
     "data": {
      "text/plain": [
       "[(Each, 'DET', 'DT'),\n",
       " (autumn, 'NOUN', 'NN'),\n",
       " (,, 'PUNCT', ','),\n",
       " (businesses, 'NOUN', 'NNS'),\n",
       " (flock, 'NOUN', 'NN'),\n",
       " (to, 'ADP', 'IN'),\n",
       " (elite, 'ADJ', 'JJ'),\n",
       " (universities, 'NOUN', 'NNS'),\n",
       " (like, 'ADP', 'IN'),\n",
       " (Harvard, 'PROPN', 'NNP'),\n",
       " (and, 'CCONJ', 'CC'),\n",
       " (Stanford, 'PROPN', 'NNP'),\n",
       " (to, 'PART', 'TO'),\n",
       " (recruit, 'VERB', 'VB'),\n",
       " (engineers, 'NOUN', 'NNS'),\n",
       " (for, 'ADP', 'IN'),\n",
       " (their, 'ADJ', 'PRP$'),\n",
       " (first, 'ADJ', 'JJ'),\n",
       " (post, 'NOUN', 'NN'),\n",
       " (-, 'PUNCT', 'HYPH'),\n",
       " (university, 'NOUN', 'NN'),\n",
       " (jobs, 'NOUN', 'NNS'),\n",
       " (., 'PUNCT', '.')]"
      ]
     },
     "execution_count": 19,
     "metadata": {},
     "output_type": "execute_result"
    }
   ],
   "source": [
    "[(t, t.pos_, t.tag_) for t in spacy_sents[0]]"
   ]
  },
  {
   "cell_type": "markdown",
   "metadata": {},
   "source": [
    "[Meaning of the POS Labels and Tags](https://spacy.io/api/annotation#section-pos-tagging)\n",
    "See the English section."
   ]
  },
  {
   "cell_type": "markdown",
   "metadata": {},
   "source": [
    "##### NLTK"
   ]
  },
  {
   "cell_type": "code",
   "execution_count": 20,
   "metadata": {},
   "outputs": [
    {
     "data": {
      "text/plain": [
       "[('Each', 'DT'),\n",
       " ('autumn', 'NN'),\n",
       " (',', ','),\n",
       " ('businesses', 'NNS'),\n",
       " ('flock', 'VBP'),\n",
       " ('to', 'TO'),\n",
       " ('elite', 'VB'),\n",
       " ('universities', 'NNS'),\n",
       " ('like', 'IN'),\n",
       " ('Harvard', 'NNP'),\n",
       " ('and', 'CC'),\n",
       " ('Stanford', 'NNP'),\n",
       " ('to', 'TO'),\n",
       " ('recruit', 'VB'),\n",
       " ('engineers', 'NNS'),\n",
       " ('for', 'IN'),\n",
       " ('their', 'PRP$'),\n",
       " ('first', 'JJ'),\n",
       " ('post-university', 'NN'),\n",
       " ('jobs', 'NNS'),\n",
       " ('.', '.')]"
      ]
     },
     "execution_count": 20,
     "metadata": {},
     "output_type": "execute_result"
    }
   ],
   "source": [
    "nltk.pos_tag(nltk_tokens)"
   ]
  },
  {
   "cell_type": "markdown",
   "metadata": {},
   "source": [
    "# Word Normalization: Stemming and Lemmatization\n",
    "[Read more](https://nlp.stanford.edu/IR-book/html/htmledition/stemming-and-lemmatization-1.html)"
   ]
  },
  {
   "cell_type": "markdown",
   "metadata": {},
   "source": [
    "##### spaCy"
   ]
  },
  {
   "cell_type": "markdown",
   "metadata": {},
   "source": [
    "spaCy doesn't support stemming, but lemmatization (like everything else) is already built in."
   ]
  },
  {
   "cell_type": "code",
   "execution_count": 21,
   "metadata": {},
   "outputs": [
    {
     "data": {
      "text/plain": [
       "[(Each, 'LEMMA:', 'each'),\n",
       " (autumn, 'LEMMA:', 'autumn'),\n",
       " (,, 'LEMMA:', ','),\n",
       " (businesses, 'LEMMA:', 'business'),\n",
       " (flock, 'LEMMA:', 'flock'),\n",
       " (to, 'LEMMA:', 'to'),\n",
       " (elite, 'LEMMA:', 'elite'),\n",
       " (universities, 'LEMMA:', 'university'),\n",
       " (like, 'LEMMA:', 'like'),\n",
       " (Harvard, 'LEMMA:', 'harvard'),\n",
       " (and, 'LEMMA:', 'and'),\n",
       " (Stanford, 'LEMMA:', 'stanford'),\n",
       " (to, 'LEMMA:', 'to'),\n",
       " (recruit, 'LEMMA:', 'recruit'),\n",
       " (engineers, 'LEMMA:', 'engineer'),\n",
       " (for, 'LEMMA:', 'for'),\n",
       " (their, 'LEMMA:', '-PRON-'),\n",
       " (first, 'LEMMA:', 'first'),\n",
       " (post, 'LEMMA:', 'post'),\n",
       " (-, 'LEMMA:', '-'),\n",
       " (university, 'LEMMA:', 'university'),\n",
       " (jobs, 'LEMMA:', 'job'),\n",
       " (., 'LEMMA:', '.')]"
      ]
     },
     "execution_count": 21,
     "metadata": {},
     "output_type": "execute_result"
    }
   ],
   "source": [
    "[(t, 'LEMMA:', t.lemma_) for t in spacy_sents[0]]"
   ]
  },
  {
   "cell_type": "markdown",
   "metadata": {},
   "source": [
    "##### NLTK"
   ]
  },
  {
   "cell_type": "markdown",
   "metadata": {},
   "source": [
    "NLTK has multiple stemmers that you can use."
   ]
  },
  {
   "cell_type": "code",
   "execution_count": 22,
   "metadata": {},
   "outputs": [],
   "source": [
    "from nltk.stem import LancasterStemmer, PorterStemmer, SnowballStemmer"
   ]
  },
  {
   "cell_type": "code",
   "execution_count": 23,
   "metadata": {},
   "outputs": [],
   "source": [
    "lancaster_stem = LancasterStemmer()\n",
    "porter_stem = PorterStemmer()\n",
    "snowball_stem = SnowballStemmer('english')"
   ]
  },
  {
   "cell_type": "code",
   "execution_count": 24,
   "metadata": {},
   "outputs": [
    {
     "name": "stdout",
     "output_type": "stream",
     "text": [
      "token: Each ---  Lancaster: each  |  Porter: each  |  Snowball: each\n",
      "token: autumn ---  Lancaster: autumn  |  Porter: autumn  |  Snowball: autumn\n",
      "token: , ---  Lancaster: ,  |  Porter: ,  |  Snowball: ,\n",
      "token: businesses ---  Lancaster: busy  |  Porter: busi  |  Snowball: busi\n",
      "token: flock ---  Lancaster: flock  |  Porter: flock  |  Snowball: flock\n",
      "token: to ---  Lancaster: to  |  Porter: to  |  Snowball: to\n",
      "token: elite ---  Lancaster: elit  |  Porter: elit  |  Snowball: elit\n",
      "token: universities ---  Lancaster: univers  |  Porter: univers  |  Snowball: univers\n",
      "token: like ---  Lancaster: lik  |  Porter: like  |  Snowball: like\n",
      "token: Harvard ---  Lancaster: harvard  |  Porter: harvard  |  Snowball: harvard\n",
      "token: and ---  Lancaster: and  |  Porter: and  |  Snowball: and\n",
      "token: Stanford ---  Lancaster: stanford  |  Porter: stanford  |  Snowball: stanford\n",
      "token: to ---  Lancaster: to  |  Porter: to  |  Snowball: to\n",
      "token: recruit ---  Lancaster: recruit  |  Porter: recruit  |  Snowball: recruit\n",
      "token: engineers ---  Lancaster: engin  |  Porter: engin  |  Snowball: engin\n",
      "token: for ---  Lancaster: for  |  Porter: for  |  Snowball: for\n",
      "token: their ---  Lancaster: their  |  Porter: their  |  Snowball: their\n",
      "token: first ---  Lancaster: first  |  Porter: first  |  Snowball: first\n",
      "token: post-university ---  Lancaster: post-university  |  Porter: post-univers  |  Snowball: post-univers\n",
      "token: jobs ---  Lancaster: job  |  Porter: job  |  Snowball: job\n",
      "token: . ---  Lancaster: .  |  Porter: .  |  Snowball: .\n"
     ]
    }
   ],
   "source": [
    "for token in nltk_tokens:\n",
    "    print('token: {} ---  Lancaster: {}  |  Porter: {}  |  Snowball: {}'.format(token, lancaster_stem.stem(token), porter_stem.stem(token), snowball_stem.stem(token)))"
   ]
  },
  {
   "cell_type": "markdown",
   "metadata": {},
   "source": [
    "# Analyzing Sentence Structure"
   ]
  },
  {
   "cell_type": "markdown",
   "metadata": {},
   "source": [
    "There are two main approaches to analyzing sentence structure: Dependency-based and Constituency-based<br>\n",
    "From [Wikipedia](https://en.wikipedia.org/wiki/Dependency_grammar#Dependency_vs._constituency):<br>\n",
    "\"Dependency is a one-to-one correspondence: for every element (e.g. word or morph) in the sentence, there is exactly one node in the structure of that sentence that corresponds to that element. The result of this one-to-one correspondence is that dependency grammars are word (or morph) grammars. All that exist are the elements and the dependencies that connect the elements into a structure. This situation should be compared with the constituency relation of phrase structure grammars. Constituency is a one-to-one-or-more correspondence, which means that, for every element in a sentence, there are one or more nodes in the structure that correspond to that element. The result of this difference is that dependency structures are minimal[7] compared to their constituency structure counterparts, since they tend to contain much fewer nodes.\""
   ]
  },
  {
   "cell_type": "markdown",
   "metadata": {},
   "source": [
    "##### spaCy"
   ]
  },
  {
   "cell_type": "markdown",
   "metadata": {},
   "source": [
    "spaCy supports dependency parsing for analyzing sentence structure."
   ]
  },
  {
   "cell_type": "code",
   "execution_count": 25,
   "metadata": {},
   "outputs": [
    {
     "data": {
      "text/plain": [
       "[(Each, 'det', autumn),\n",
       " (autumn, 'npadvmod', flock),\n",
       " (,, 'punct', flock),\n",
       " (businesses, 'nsubj', flock),\n",
       " (flock, 'ROOT', flock),\n",
       " (to, 'aux', elite),\n",
       " (elite, 'advcl', flock),\n",
       " (universities, 'dobj', elite),\n",
       " (like, 'prep', universities),\n",
       " (Harvard, 'pobj', like),\n",
       " (and, 'cc', Harvard),\n",
       " (Stanford, 'conj', Harvard),\n",
       " (to, 'aux', recruit),\n",
       " (recruit, 'xcomp', elite),\n",
       " (engineers, 'dobj', recruit),\n",
       " (for, 'prep', engineers),\n",
       " (their, 'poss', jobs),\n",
       " (first, 'amod', jobs),\n",
       " (post, 'compound', university),\n",
       " (-, 'punct', university),\n",
       " (university, 'compound', jobs),\n",
       " (jobs, 'pobj', for),\n",
       " (., 'punct', flock)]"
      ]
     },
     "execution_count": 25,
     "metadata": {},
     "output_type": "execute_result"
    }
   ],
   "source": [
    "# already built in\n",
    "[(t, t.dep_, t.head) for t in spacy_sents[0]]"
   ]
  },
  {
   "cell_type": "code",
   "execution_count": 26,
   "metadata": {},
   "outputs": [],
   "source": [
    "from spacy import displacy"
   ]
  },
  {
   "cell_type": "code",
   "execution_count": 27,
   "metadata": {},
   "outputs": [
    {
     "name": "stdout",
     "output_type": "stream",
     "text": [
      "<class 'spacy.tokens.span.Span'>\n"
     ]
    }
   ],
   "source": [
    "# you can convert a sentence Span object to a doc like this\n",
    "sent_span = spacy_sents[0]\n",
    "print(type(sent_span))\n",
    "sent_doc = sent_span.as_doc()"
   ]
  },
  {
   "cell_type": "code",
   "execution_count": 28,
   "metadata": {},
   "outputs": [
    {
     "name": "stderr",
     "output_type": "stream",
     "text": [
      "/Users/zacharywentzell/anaconda3/envs/nlp/lib/python3.6/runpy.py:193: DeprecationWarning: Positional arguments to Doc.merge are deprecated. Instead, use the keyword arguments, for example tag=, lemma= or ent_type=.\n",
      "  \"__main__\", mod_spec)\n",
      "/Users/zacharywentzell/anaconda3/envs/nlp/lib/python3.6/runpy.py:193: DeprecationWarning: Positional arguments to Doc.merge are deprecated. Instead, use the keyword arguments, for example tag=, lemma= or ent_type=.\n",
      "  \"__main__\", mod_spec)\n",
      "/Users/zacharywentzell/anaconda3/envs/nlp/lib/python3.6/runpy.py:193: DeprecationWarning: Positional arguments to Doc.merge are deprecated. Instead, use the keyword arguments, for example tag=, lemma= or ent_type=.\n",
      "  \"__main__\", mod_spec)\n"
     ]
    },
    {
     "data": {
      "text/html": [
       "<svg xmlns=\"http://www.w3.org/2000/svg\" xmlns:xlink=\"http://www.w3.org/1999/xlink\" id=\"0\" class=\"displacy\" width=\"2450\" height=\"497.0\" style=\"max-width: none; height: 497.0px; color: #000000; background: #ffffff; font-family: Arial\">\n",
       "<text class=\"displacy-token\" fill=\"currentColor\" text-anchor=\"middle\" y=\"407.0\">\n",
       "    <tspan class=\"displacy-word\" fill=\"currentColor\" x=\"50\">Each</tspan>\n",
       "    <tspan class=\"displacy-tag\" dy=\"2em\" fill=\"currentColor\" x=\"50\">DET</tspan>\n",
       "</text>\n",
       "\n",
       "<text class=\"displacy-token\" fill=\"currentColor\" text-anchor=\"middle\" y=\"407.0\">\n",
       "    <tspan class=\"displacy-word\" fill=\"currentColor\" x=\"170\">autumn,</tspan>\n",
       "    <tspan class=\"displacy-tag\" dy=\"2em\" fill=\"currentColor\" x=\"170\">NOUN</tspan>\n",
       "</text>\n",
       "\n",
       "<text class=\"displacy-token\" fill=\"currentColor\" text-anchor=\"middle\" y=\"407.0\">\n",
       "    <tspan class=\"displacy-word\" fill=\"currentColor\" x=\"290\">businesses</tspan>\n",
       "    <tspan class=\"displacy-tag\" dy=\"2em\" fill=\"currentColor\" x=\"290\">NOUN</tspan>\n",
       "</text>\n",
       "\n",
       "<text class=\"displacy-token\" fill=\"currentColor\" text-anchor=\"middle\" y=\"407.0\">\n",
       "    <tspan class=\"displacy-word\" fill=\"currentColor\" x=\"410\">flock</tspan>\n",
       "    <tspan class=\"displacy-tag\" dy=\"2em\" fill=\"currentColor\" x=\"410\">NOUN</tspan>\n",
       "</text>\n",
       "\n",
       "<text class=\"displacy-token\" fill=\"currentColor\" text-anchor=\"middle\" y=\"407.0\">\n",
       "    <tspan class=\"displacy-word\" fill=\"currentColor\" x=\"530\">to</tspan>\n",
       "    <tspan class=\"displacy-tag\" dy=\"2em\" fill=\"currentColor\" x=\"530\">ADP</tspan>\n",
       "</text>\n",
       "\n",
       "<text class=\"displacy-token\" fill=\"currentColor\" text-anchor=\"middle\" y=\"407.0\">\n",
       "    <tspan class=\"displacy-word\" fill=\"currentColor\" x=\"650\">elite</tspan>\n",
       "    <tspan class=\"displacy-tag\" dy=\"2em\" fill=\"currentColor\" x=\"650\">ADJ</tspan>\n",
       "</text>\n",
       "\n",
       "<text class=\"displacy-token\" fill=\"currentColor\" text-anchor=\"middle\" y=\"407.0\">\n",
       "    <tspan class=\"displacy-word\" fill=\"currentColor\" x=\"770\">universities</tspan>\n",
       "    <tspan class=\"displacy-tag\" dy=\"2em\" fill=\"currentColor\" x=\"770\">NOUN</tspan>\n",
       "</text>\n",
       "\n",
       "<text class=\"displacy-token\" fill=\"currentColor\" text-anchor=\"middle\" y=\"407.0\">\n",
       "    <tspan class=\"displacy-word\" fill=\"currentColor\" x=\"890\">like</tspan>\n",
       "    <tspan class=\"displacy-tag\" dy=\"2em\" fill=\"currentColor\" x=\"890\">ADP</tspan>\n",
       "</text>\n",
       "\n",
       "<text class=\"displacy-token\" fill=\"currentColor\" text-anchor=\"middle\" y=\"407.0\">\n",
       "    <tspan class=\"displacy-word\" fill=\"currentColor\" x=\"1010\">Harvard</tspan>\n",
       "    <tspan class=\"displacy-tag\" dy=\"2em\" fill=\"currentColor\" x=\"1010\">PROPN</tspan>\n",
       "</text>\n",
       "\n",
       "<text class=\"displacy-token\" fill=\"currentColor\" text-anchor=\"middle\" y=\"407.0\">\n",
       "    <tspan class=\"displacy-word\" fill=\"currentColor\" x=\"1130\">and</tspan>\n",
       "    <tspan class=\"displacy-tag\" dy=\"2em\" fill=\"currentColor\" x=\"1130\">CCONJ</tspan>\n",
       "</text>\n",
       "\n",
       "<text class=\"displacy-token\" fill=\"currentColor\" text-anchor=\"middle\" y=\"407.0\">\n",
       "    <tspan class=\"displacy-word\" fill=\"currentColor\" x=\"1250\">Stanford</tspan>\n",
       "    <tspan class=\"displacy-tag\" dy=\"2em\" fill=\"currentColor\" x=\"1250\">PROPN</tspan>\n",
       "</text>\n",
       "\n",
       "<text class=\"displacy-token\" fill=\"currentColor\" text-anchor=\"middle\" y=\"407.0\">\n",
       "    <tspan class=\"displacy-word\" fill=\"currentColor\" x=\"1370\">to</tspan>\n",
       "    <tspan class=\"displacy-tag\" dy=\"2em\" fill=\"currentColor\" x=\"1370\">PART</tspan>\n",
       "</text>\n",
       "\n",
       "<text class=\"displacy-token\" fill=\"currentColor\" text-anchor=\"middle\" y=\"407.0\">\n",
       "    <tspan class=\"displacy-word\" fill=\"currentColor\" x=\"1490\">recruit</tspan>\n",
       "    <tspan class=\"displacy-tag\" dy=\"2em\" fill=\"currentColor\" x=\"1490\">VERB</tspan>\n",
       "</text>\n",
       "\n",
       "<text class=\"displacy-token\" fill=\"currentColor\" text-anchor=\"middle\" y=\"407.0\">\n",
       "    <tspan class=\"displacy-word\" fill=\"currentColor\" x=\"1610\">engineers</tspan>\n",
       "    <tspan class=\"displacy-tag\" dy=\"2em\" fill=\"currentColor\" x=\"1610\">NOUN</tspan>\n",
       "</text>\n",
       "\n",
       "<text class=\"displacy-token\" fill=\"currentColor\" text-anchor=\"middle\" y=\"407.0\">\n",
       "    <tspan class=\"displacy-word\" fill=\"currentColor\" x=\"1730\">for</tspan>\n",
       "    <tspan class=\"displacy-tag\" dy=\"2em\" fill=\"currentColor\" x=\"1730\">ADP</tspan>\n",
       "</text>\n",
       "\n",
       "<text class=\"displacy-token\" fill=\"currentColor\" text-anchor=\"middle\" y=\"407.0\">\n",
       "    <tspan class=\"displacy-word\" fill=\"currentColor\" x=\"1850\">their</tspan>\n",
       "    <tspan class=\"displacy-tag\" dy=\"2em\" fill=\"currentColor\" x=\"1850\">ADJ</tspan>\n",
       "</text>\n",
       "\n",
       "<text class=\"displacy-token\" fill=\"currentColor\" text-anchor=\"middle\" y=\"407.0\">\n",
       "    <tspan class=\"displacy-word\" fill=\"currentColor\" x=\"1970\">first</tspan>\n",
       "    <tspan class=\"displacy-tag\" dy=\"2em\" fill=\"currentColor\" x=\"1970\">ADJ</tspan>\n",
       "</text>\n",
       "\n",
       "<text class=\"displacy-token\" fill=\"currentColor\" text-anchor=\"middle\" y=\"407.0\">\n",
       "    <tspan class=\"displacy-word\" fill=\"currentColor\" x=\"2090\">post-</tspan>\n",
       "    <tspan class=\"displacy-tag\" dy=\"2em\" fill=\"currentColor\" x=\"2090\">NOUN</tspan>\n",
       "</text>\n",
       "\n",
       "<text class=\"displacy-token\" fill=\"currentColor\" text-anchor=\"middle\" y=\"407.0\">\n",
       "    <tspan class=\"displacy-word\" fill=\"currentColor\" x=\"2210\">university</tspan>\n",
       "    <tspan class=\"displacy-tag\" dy=\"2em\" fill=\"currentColor\" x=\"2210\">NOUN</tspan>\n",
       "</text>\n",
       "\n",
       "<text class=\"displacy-token\" fill=\"currentColor\" text-anchor=\"middle\" y=\"407.0\">\n",
       "    <tspan class=\"displacy-word\" fill=\"currentColor\" x=\"2330\">jobs.</tspan>\n",
       "    <tspan class=\"displacy-tag\" dy=\"2em\" fill=\"currentColor\" x=\"2330\">NOUN</tspan>\n",
       "</text>\n",
       "\n",
       "<g class=\"displacy-arrow\">\n",
       "    <path class=\"displacy-arc\" id=\"arrow-0-0\" stroke-width=\"2px\" d=\"M70,362.0 C70,302.0 145.0,302.0 145.0,362.0\" fill=\"none\" stroke=\"currentColor\"/>\n",
       "    <text dy=\"1.25em\" style=\"font-size: 0.8em; letter-spacing: 1px\">\n",
       "        <textPath xlink:href=\"#arrow-0-0\" class=\"displacy-label\" startOffset=\"50%\" fill=\"currentColor\" text-anchor=\"middle\">det</textPath>\n",
       "    </text>\n",
       "    <path class=\"displacy-arrowhead\" d=\"M70,364.0 L62,352.0 78,352.0\" fill=\"currentColor\"/>\n",
       "</g>\n",
       "\n",
       "<g class=\"displacy-arrow\">\n",
       "    <path class=\"displacy-arc\" id=\"arrow-0-1\" stroke-width=\"2px\" d=\"M190,362.0 C190,242.0 390.0,242.0 390.0,362.0\" fill=\"none\" stroke=\"currentColor\"/>\n",
       "    <text dy=\"1.25em\" style=\"font-size: 0.8em; letter-spacing: 1px\">\n",
       "        <textPath xlink:href=\"#arrow-0-1\" class=\"displacy-label\" startOffset=\"50%\" fill=\"currentColor\" text-anchor=\"middle\">npadvmod</textPath>\n",
       "    </text>\n",
       "    <path class=\"displacy-arrowhead\" d=\"M190,364.0 L182,352.0 198,352.0\" fill=\"currentColor\"/>\n",
       "</g>\n",
       "\n",
       "<g class=\"displacy-arrow\">\n",
       "    <path class=\"displacy-arc\" id=\"arrow-0-2\" stroke-width=\"2px\" d=\"M310,362.0 C310,302.0 385.0,302.0 385.0,362.0\" fill=\"none\" stroke=\"currentColor\"/>\n",
       "    <text dy=\"1.25em\" style=\"font-size: 0.8em; letter-spacing: 1px\">\n",
       "        <textPath xlink:href=\"#arrow-0-2\" class=\"displacy-label\" startOffset=\"50%\" fill=\"currentColor\" text-anchor=\"middle\">nsubj</textPath>\n",
       "    </text>\n",
       "    <path class=\"displacy-arrowhead\" d=\"M310,364.0 L302,352.0 318,352.0\" fill=\"currentColor\"/>\n",
       "</g>\n",
       "\n",
       "<g class=\"displacy-arrow\">\n",
       "    <path class=\"displacy-arc\" id=\"arrow-0-3\" stroke-width=\"2px\" d=\"M550,362.0 C550,302.0 625.0,302.0 625.0,362.0\" fill=\"none\" stroke=\"currentColor\"/>\n",
       "    <text dy=\"1.25em\" style=\"font-size: 0.8em; letter-spacing: 1px\">\n",
       "        <textPath xlink:href=\"#arrow-0-3\" class=\"displacy-label\" startOffset=\"50%\" fill=\"currentColor\" text-anchor=\"middle\">aux</textPath>\n",
       "    </text>\n",
       "    <path class=\"displacy-arrowhead\" d=\"M550,364.0 L542,352.0 558,352.0\" fill=\"currentColor\"/>\n",
       "</g>\n",
       "\n",
       "<g class=\"displacy-arrow\">\n",
       "    <path class=\"displacy-arc\" id=\"arrow-0-4\" stroke-width=\"2px\" d=\"M430,362.0 C430,242.0 630.0,242.0 630.0,362.0\" fill=\"none\" stroke=\"currentColor\"/>\n",
       "    <text dy=\"1.25em\" style=\"font-size: 0.8em; letter-spacing: 1px\">\n",
       "        <textPath xlink:href=\"#arrow-0-4\" class=\"displacy-label\" startOffset=\"50%\" fill=\"currentColor\" text-anchor=\"middle\">advcl</textPath>\n",
       "    </text>\n",
       "    <path class=\"displacy-arrowhead\" d=\"M630.0,364.0 L638.0,352.0 622.0,352.0\" fill=\"currentColor\"/>\n",
       "</g>\n",
       "\n",
       "<g class=\"displacy-arrow\">\n",
       "    <path class=\"displacy-arc\" id=\"arrow-0-5\" stroke-width=\"2px\" d=\"M670,362.0 C670,302.0 745.0,302.0 745.0,362.0\" fill=\"none\" stroke=\"currentColor\"/>\n",
       "    <text dy=\"1.25em\" style=\"font-size: 0.8em; letter-spacing: 1px\">\n",
       "        <textPath xlink:href=\"#arrow-0-5\" class=\"displacy-label\" startOffset=\"50%\" fill=\"currentColor\" text-anchor=\"middle\">dobj</textPath>\n",
       "    </text>\n",
       "    <path class=\"displacy-arrowhead\" d=\"M745.0,364.0 L753.0,352.0 737.0,352.0\" fill=\"currentColor\"/>\n",
       "</g>\n",
       "\n",
       "<g class=\"displacy-arrow\">\n",
       "    <path class=\"displacy-arc\" id=\"arrow-0-6\" stroke-width=\"2px\" d=\"M790,362.0 C790,302.0 865.0,302.0 865.0,362.0\" fill=\"none\" stroke=\"currentColor\"/>\n",
       "    <text dy=\"1.25em\" style=\"font-size: 0.8em; letter-spacing: 1px\">\n",
       "        <textPath xlink:href=\"#arrow-0-6\" class=\"displacy-label\" startOffset=\"50%\" fill=\"currentColor\" text-anchor=\"middle\">prep</textPath>\n",
       "    </text>\n",
       "    <path class=\"displacy-arrowhead\" d=\"M865.0,364.0 L873.0,352.0 857.0,352.0\" fill=\"currentColor\"/>\n",
       "</g>\n",
       "\n",
       "<g class=\"displacy-arrow\">\n",
       "    <path class=\"displacy-arc\" id=\"arrow-0-7\" stroke-width=\"2px\" d=\"M910,362.0 C910,302.0 985.0,302.0 985.0,362.0\" fill=\"none\" stroke=\"currentColor\"/>\n",
       "    <text dy=\"1.25em\" style=\"font-size: 0.8em; letter-spacing: 1px\">\n",
       "        <textPath xlink:href=\"#arrow-0-7\" class=\"displacy-label\" startOffset=\"50%\" fill=\"currentColor\" text-anchor=\"middle\">pobj</textPath>\n",
       "    </text>\n",
       "    <path class=\"displacy-arrowhead\" d=\"M985.0,364.0 L993.0,352.0 977.0,352.0\" fill=\"currentColor\"/>\n",
       "</g>\n",
       "\n",
       "<g class=\"displacy-arrow\">\n",
       "    <path class=\"displacy-arc\" id=\"arrow-0-8\" stroke-width=\"2px\" d=\"M1030,362.0 C1030,302.0 1105.0,302.0 1105.0,362.0\" fill=\"none\" stroke=\"currentColor\"/>\n",
       "    <text dy=\"1.25em\" style=\"font-size: 0.8em; letter-spacing: 1px\">\n",
       "        <textPath xlink:href=\"#arrow-0-8\" class=\"displacy-label\" startOffset=\"50%\" fill=\"currentColor\" text-anchor=\"middle\">cc</textPath>\n",
       "    </text>\n",
       "    <path class=\"displacy-arrowhead\" d=\"M1105.0,364.0 L1113.0,352.0 1097.0,352.0\" fill=\"currentColor\"/>\n",
       "</g>\n",
       "\n",
       "<g class=\"displacy-arrow\">\n",
       "    <path class=\"displacy-arc\" id=\"arrow-0-9\" stroke-width=\"2px\" d=\"M1030,362.0 C1030,242.0 1230.0,242.0 1230.0,362.0\" fill=\"none\" stroke=\"currentColor\"/>\n",
       "    <text dy=\"1.25em\" style=\"font-size: 0.8em; letter-spacing: 1px\">\n",
       "        <textPath xlink:href=\"#arrow-0-9\" class=\"displacy-label\" startOffset=\"50%\" fill=\"currentColor\" text-anchor=\"middle\">conj</textPath>\n",
       "    </text>\n",
       "    <path class=\"displacy-arrowhead\" d=\"M1230.0,364.0 L1238.0,352.0 1222.0,352.0\" fill=\"currentColor\"/>\n",
       "</g>\n",
       "\n",
       "<g class=\"displacy-arrow\">\n",
       "    <path class=\"displacy-arc\" id=\"arrow-0-10\" stroke-width=\"2px\" d=\"M1390,362.0 C1390,302.0 1465.0,302.0 1465.0,362.0\" fill=\"none\" stroke=\"currentColor\"/>\n",
       "    <text dy=\"1.25em\" style=\"font-size: 0.8em; letter-spacing: 1px\">\n",
       "        <textPath xlink:href=\"#arrow-0-10\" class=\"displacy-label\" startOffset=\"50%\" fill=\"currentColor\" text-anchor=\"middle\">aux</textPath>\n",
       "    </text>\n",
       "    <path class=\"displacy-arrowhead\" d=\"M1390,364.0 L1382,352.0 1398,352.0\" fill=\"currentColor\"/>\n",
       "</g>\n",
       "\n",
       "<g class=\"displacy-arrow\">\n",
       "    <path class=\"displacy-arc\" id=\"arrow-0-11\" stroke-width=\"2px\" d=\"M670,362.0 C670,2.0 1490.0,2.0 1490.0,362.0\" fill=\"none\" stroke=\"currentColor\"/>\n",
       "    <text dy=\"1.25em\" style=\"font-size: 0.8em; letter-spacing: 1px\">\n",
       "        <textPath xlink:href=\"#arrow-0-11\" class=\"displacy-label\" startOffset=\"50%\" fill=\"currentColor\" text-anchor=\"middle\">xcomp</textPath>\n",
       "    </text>\n",
       "    <path class=\"displacy-arrowhead\" d=\"M1490.0,364.0 L1498.0,352.0 1482.0,352.0\" fill=\"currentColor\"/>\n",
       "</g>\n",
       "\n",
       "<g class=\"displacy-arrow\">\n",
       "    <path class=\"displacy-arc\" id=\"arrow-0-12\" stroke-width=\"2px\" d=\"M1510,362.0 C1510,302.0 1585.0,302.0 1585.0,362.0\" fill=\"none\" stroke=\"currentColor\"/>\n",
       "    <text dy=\"1.25em\" style=\"font-size: 0.8em; letter-spacing: 1px\">\n",
       "        <textPath xlink:href=\"#arrow-0-12\" class=\"displacy-label\" startOffset=\"50%\" fill=\"currentColor\" text-anchor=\"middle\">dobj</textPath>\n",
       "    </text>\n",
       "    <path class=\"displacy-arrowhead\" d=\"M1585.0,364.0 L1593.0,352.0 1577.0,352.0\" fill=\"currentColor\"/>\n",
       "</g>\n",
       "\n",
       "<g class=\"displacy-arrow\">\n",
       "    <path class=\"displacy-arc\" id=\"arrow-0-13\" stroke-width=\"2px\" d=\"M1630,362.0 C1630,302.0 1705.0,302.0 1705.0,362.0\" fill=\"none\" stroke=\"currentColor\"/>\n",
       "    <text dy=\"1.25em\" style=\"font-size: 0.8em; letter-spacing: 1px\">\n",
       "        <textPath xlink:href=\"#arrow-0-13\" class=\"displacy-label\" startOffset=\"50%\" fill=\"currentColor\" text-anchor=\"middle\">prep</textPath>\n",
       "    </text>\n",
       "    <path class=\"displacy-arrowhead\" d=\"M1705.0,364.0 L1713.0,352.0 1697.0,352.0\" fill=\"currentColor\"/>\n",
       "</g>\n",
       "\n",
       "<g class=\"displacy-arrow\">\n",
       "    <path class=\"displacy-arc\" id=\"arrow-0-14\" stroke-width=\"2px\" d=\"M1870,362.0 C1870,122.0 2320.0,122.0 2320.0,362.0\" fill=\"none\" stroke=\"currentColor\"/>\n",
       "    <text dy=\"1.25em\" style=\"font-size: 0.8em; letter-spacing: 1px\">\n",
       "        <textPath xlink:href=\"#arrow-0-14\" class=\"displacy-label\" startOffset=\"50%\" fill=\"currentColor\" text-anchor=\"middle\">poss</textPath>\n",
       "    </text>\n",
       "    <path class=\"displacy-arrowhead\" d=\"M1870,364.0 L1862,352.0 1878,352.0\" fill=\"currentColor\"/>\n",
       "</g>\n",
       "\n",
       "<g class=\"displacy-arrow\">\n",
       "    <path class=\"displacy-arc\" id=\"arrow-0-15\" stroke-width=\"2px\" d=\"M1990,362.0 C1990,182.0 2315.0,182.0 2315.0,362.0\" fill=\"none\" stroke=\"currentColor\"/>\n",
       "    <text dy=\"1.25em\" style=\"font-size: 0.8em; letter-spacing: 1px\">\n",
       "        <textPath xlink:href=\"#arrow-0-15\" class=\"displacy-label\" startOffset=\"50%\" fill=\"currentColor\" text-anchor=\"middle\">amod</textPath>\n",
       "    </text>\n",
       "    <path class=\"displacy-arrowhead\" d=\"M1990,364.0 L1982,352.0 1998,352.0\" fill=\"currentColor\"/>\n",
       "</g>\n",
       "\n",
       "<g class=\"displacy-arrow\">\n",
       "    <path class=\"displacy-arc\" id=\"arrow-0-16\" stroke-width=\"2px\" d=\"M2110,362.0 C2110,302.0 2185.0,302.0 2185.0,362.0\" fill=\"none\" stroke=\"currentColor\"/>\n",
       "    <text dy=\"1.25em\" style=\"font-size: 0.8em; letter-spacing: 1px\">\n",
       "        <textPath xlink:href=\"#arrow-0-16\" class=\"displacy-label\" startOffset=\"50%\" fill=\"currentColor\" text-anchor=\"middle\">compound</textPath>\n",
       "    </text>\n",
       "    <path class=\"displacy-arrowhead\" d=\"M2110,364.0 L2102,352.0 2118,352.0\" fill=\"currentColor\"/>\n",
       "</g>\n",
       "\n",
       "<g class=\"displacy-arrow\">\n",
       "    <path class=\"displacy-arc\" id=\"arrow-0-17\" stroke-width=\"2px\" d=\"M2230,362.0 C2230,302.0 2305.0,302.0 2305.0,362.0\" fill=\"none\" stroke=\"currentColor\"/>\n",
       "    <text dy=\"1.25em\" style=\"font-size: 0.8em; letter-spacing: 1px\">\n",
       "        <textPath xlink:href=\"#arrow-0-17\" class=\"displacy-label\" startOffset=\"50%\" fill=\"currentColor\" text-anchor=\"middle\">compound</textPath>\n",
       "    </text>\n",
       "    <path class=\"displacy-arrowhead\" d=\"M2230,364.0 L2222,352.0 2238,352.0\" fill=\"currentColor\"/>\n",
       "</g>\n",
       "\n",
       "<g class=\"displacy-arrow\">\n",
       "    <path class=\"displacy-arc\" id=\"arrow-0-18\" stroke-width=\"2px\" d=\"M1750,362.0 C1750,62.0 2325.0,62.0 2325.0,362.0\" fill=\"none\" stroke=\"currentColor\"/>\n",
       "    <text dy=\"1.25em\" style=\"font-size: 0.8em; letter-spacing: 1px\">\n",
       "        <textPath xlink:href=\"#arrow-0-18\" class=\"displacy-label\" startOffset=\"50%\" fill=\"currentColor\" text-anchor=\"middle\">pobj</textPath>\n",
       "    </text>\n",
       "    <path class=\"displacy-arrowhead\" d=\"M2325.0,364.0 L2333.0,352.0 2317.0,352.0\" fill=\"currentColor\"/>\n",
       "</g>\n",
       "</svg>"
      ],
      "text/plain": [
       "<IPython.core.display.HTML object>"
      ]
     },
     "metadata": {},
     "output_type": "display_data"
    }
   ],
   "source": [
    "displacy.render(sent_doc, style='dep', jupyter=True, options={'distance': 120})"
   ]
  },
  {
   "cell_type": "markdown",
   "metadata": {},
   "source": [
    "##### NLTK"
   ]
  },
  {
   "cell_type": "markdown",
   "metadata": {},
   "source": [
    "NLTK can perform both types. However, they require you to define your own grammars, which is outside of the scope of this course. NLTK also provides support for using Stanford's CoreNLP software to perform both dependency and constituency parsing. However for dependency parsing, just stick with spaCy. It's faster and one of the best."
   ]
  },
  {
   "cell_type": "code",
   "execution_count": 29,
   "metadata": {},
   "outputs": [],
   "source": [
    "from nltk.parse.stanford import StanfordDependencyParser, StanfordParser"
   ]
  },
  {
   "cell_type": "markdown",
   "metadata": {},
   "source": [
    "If you don't have a JAVAHOME environment variable set on your machine. You'll need to set it from your script.<br>\n",
    "To determine the path to java on your machine<br>\n",
    "Windows: Go to the command prompt and type `where java`<br>\n",
    "OSX/Linux: Open the console and type: `which java`"
   ]
  },
  {
   "cell_type": "code",
   "execution_count": 30,
   "metadata": {},
   "outputs": [],
   "source": [
    "import os\n",
    "\n",
    "java_path = '/usr/bin/java'\n",
    "os.environ['JAVAHOME'] = java_path\n",
    "\n",
    "path_to_jar = \"/Users/zacharywentzell/Downloads/stanford-corenlp-full-2017-06-09/stanford-corenlp-3.8.0-sources.jar\"\n",
    "path_to_models = \"/Users/zacharywentzell/Downloads/stanford-corenlp-full-2017-06-09/stanford-corenlp-3.8.0-models.jar\""
   ]
  },
  {
   "cell_type": "code",
   "execution_count": 31,
   "metadata": {},
   "outputs": [],
   "source": [
    "scp = StanfordParser(path_to_jar=path_to_jar, path_to_models_jar=path_to_models)"
   ]
  },
  {
   "cell_type": "code",
   "execution_count": 32,
   "metadata": {},
   "outputs": [],
   "source": [
    "test_sent = \"Al Norman has been fighting to keep Walmart and other big-box retailers out of small towns like this one for 25 years.\""
   ]
  },
  {
   "cell_type": "code",
   "execution_count": 33,
   "metadata": {},
   "outputs": [],
   "source": [
    "parse_tree = list(scp.raw_parse(test_sent))[0]"
   ]
  },
  {
   "cell_type": "markdown",
   "metadata": {},
   "source": [
    "if you want to be able to display the following tree in jupyter, you need to install ghostscript<br>\n",
    "For Mac:<br>\n",
    "`brew install ghostsript` or `conda install -c conda-forge ghostscript`<br><br>\n",
    "For Windows:<br>\n",
    "You'll need to download and install [ghostscript from here](https://www.ghostscript.com/download/gsdnld.html)<br>\n",
    "Then you have to make sure ghostscript is in your PATH by adding the folder `C:\\Program Files\\gs\\gs9.22\\bin` (or something similar)"
   ]
  },
  {
   "cell_type": "code",
   "execution_count": 38,
   "metadata": {},
   "outputs": [
    {
     "data": {
      "image/png": "[encoded data removed]",
      "text/plain": [
       "Tree('ROOT', [Tree('S', [Tree('NP', [Tree('NNP', ['Al']), Tree('NNP', ['Norman'])]), Tree('VP', [Tree('VBZ', ['has']), Tree('VP', [Tree('VBN', ['been']), Tree('VP', [Tree('VBG', ['fighting']), Tree('S', [Tree('VP', [Tree('TO', ['to']), Tree('VP', [Tree('VB', ['keep']), Tree('NP', [Tree('NP', [Tree('NNP', ['Walmart'])]), Tree('CC', ['and']), Tree('NP', [Tree('NP', [Tree('JJ', ['other']), Tree('JJ', ['big-box']), Tree('NNS', ['retailers'])]), Tree('PP', [Tree('RB', ['out']), Tree('IN', ['of']), Tree('NP', [Tree('JJ', ['small']), Tree('NNS', ['towns'])])])])]), Tree('PP', [Tree('IN', ['like']), Tree('NP', [Tree('NP', [Tree('DT', ['this']), Tree('NN', ['one'])]), Tree('PP', [Tree('IN', ['for']), Tree('NP', [Tree('CD', ['25']), Tree('NNS', ['years'])])])])])])])])])])]), Tree('.', ['.'])])])"
      ]
     },
     "execution_count": 38,
     "metadata": {},
     "output_type": "execute_result"
    }
   ],
   "source": [
    "parse_tree"
   ]
  },
  {
   "cell_type": "code",
   "execution_count": 39,
   "metadata": {},
   "outputs": [
    {
     "name": "stdout",
     "output_type": "stream",
     "text": [
      "(ROOT\n",
      "  (S\n",
      "    (NP (NNP Al) (NNP Norman))\n",
      "    (VP\n",
      "      (VBZ has)\n",
      "      (VP\n",
      "        (VBN been)\n",
      "        (VP\n",
      "          (VBG fighting)\n",
      "          (S\n",
      "            (VP\n",
      "              (TO to)\n",
      "              (VP\n",
      "                (VB keep)\n",
      "                (NP\n",
      "                  (NP (NNP Walmart))\n",
      "                  (CC and)\n",
      "                  (NP\n",
      "                    (NP (JJ other) (JJ big-box) (NNS retailers))\n",
      "                    (PP (RB out) (IN of) (NP (JJ small) (NNS towns)))))\n",
      "                (PP\n",
      "                  (IN like)\n",
      "                  (NP\n",
      "                    (NP (DT this) (NN one))\n",
      "                    (PP (IN for) (NP (CD 25) (NNS years)))))))))))\n",
      "    (. .)))\n"
     ]
    }
   ],
   "source": [
    "print(parse_tree)"
   ]
  },
  {
   "cell_type": "code",
   "execution_count": 48,
   "metadata": {},
   "outputs": [
    {
     "data": {
      "text/plain": [
       "1"
      ]
     },
     "execution_count": 48,
     "metadata": {},
     "output_type": "execute_result"
    }
   ],
   "source": [
    "# this is the number of child nodes, 1: (S ...)\n",
    "len(parse_tree)"
   ]
  },
  {
   "cell_type": "code",
   "execution_count": 51,
   "metadata": {},
   "outputs": [],
   "source": [
    "subtrees = list(parse_tree.subtrees())"
   ]
  },
  {
   "cell_type": "code",
   "execution_count": 55,
   "metadata": {},
   "outputs": [
    {
     "data": {
      "image/png": "[encoded data removed]",
      "text/plain": [
       "Tree('NP', [Tree('NNP', ['Al']), Tree('NNP', ['Norman'])])"
      ]
     },
     "execution_count": 55,
     "metadata": {},
     "output_type": "execute_result"
    }
   ],
   "source": [
    "subtrees[2]"
   ]
  },
  {
   "cell_type": "code",
   "execution_count": 56,
   "metadata": {},
   "outputs": [],
   "source": [
    "sdp = StanfordDependencyParser(path_to_jar=path_to_jar, path_to_models_jar=path_to_models)"
   ]
  },
  {
   "cell_type": "code",
   "execution_count": 60,
   "metadata": {},
   "outputs": [],
   "source": [
    "parse_tree = list(sdp.parse(word_tokenize(test_sent)))[0]"
   ]
  },
  {
   "cell_type": "code",
   "execution_count": 61,
   "metadata": {},
   "outputs": [
    {
     "data": {
      "image/svg+xml": [
       "<?xml version=\"1.0\" encoding=\"UTF-8\" standalone=\"no\"?>\n",
       "<!DOCTYPE svg PUBLIC \"-//W3C//DTD SVG 1.1//EN\"\n",
       " \"http://www.w3.org/Graphics/SVG/1.1/DTD/svg11.dtd\">\n",
       "<!-- Generated by graphviz version 2.40.1 (20161225.0304)\n",
       " -->\n",
       "<!-- Title: G Pages: 1 -->\n",
       "<svg width=\"623pt\" height=\"560pt\"\n",
       " viewBox=\"0.00 0.00 622.63 560.00\" xmlns=\"http://www.w3.org/2000/svg\" xmlns:xlink=\"http://www.w3.org/1999/xlink\">\n",
       "<g id=\"graph0\" class=\"graph\" transform=\"scale(1 1) rotate(0) translate(4 556)\">\n",
       "<title>G</title>\n",
       "<polygon fill=\"#ffffff\" stroke=\"transparent\" points=\"-4,4 -4,-556 618.6294,-556 618.6294,4 -4,4\"/>\n",
       "<!-- 0 -->\n",
       "<g id=\"node1\" class=\"node\">\n",
       "<title>0</title>\n",
       "<text text-anchor=\"middle\" x=\"164.8501\" y=\"-529.8\" font-family=\"Times,serif\" font-size=\"14.00\" fill=\"#000000\">0 (None)</text>\n",
       "</g>\n",
       "<!-- 5 -->\n",
       "<g id=\"node2\" class=\"node\">\n",
       "<title>5</title>\n",
       "<text text-anchor=\"middle\" x=\"164.8501\" y=\"-443.8\" font-family=\"Times,serif\" font-size=\"14.00\" fill=\"#000000\">5 (fighting)</text>\n",
       "</g>\n",
       "<!-- 0&#45;&gt;5 -->\n",
       "<g id=\"edge1\" class=\"edge\">\n",
       "<title>0&#45;&gt;5</title>\n",
       "<path fill=\"none\" stroke=\"#000000\" d=\"M164.8501,-515.7616C164.8501,-504.3597 164.8501,-489.4342 164.8501,-476.494\"/>\n",
       "<polygon fill=\"#000000\" stroke=\"#000000\" points=\"168.3502,-476.2121 164.8501,-466.2121 161.3502,-476.2121 168.3502,-476.2121\"/>\n",
       "<text text-anchor=\"middle\" x=\"176.126\" y=\"-486.8\" font-family=\"Times,serif\" font-size=\"14.00\" fill=\"#000000\">root</text>\n",
       "</g>\n",
       "<!-- 2 -->\n",
       "<g id=\"node4\" class=\"node\">\n",
       "<title>2</title>\n",
       "<text text-anchor=\"middle\" x=\"40.8501\" y=\"-357.8\" font-family=\"Times,serif\" font-size=\"14.00\" fill=\"#000000\">2 (Norman)</text>\n",
       "</g>\n",
       "<!-- 5&#45;&gt;2 -->\n",
       "<g id=\"edge3\" class=\"edge\">\n",
       "<title>5&#45;&gt;2</title>\n",
       "<path fill=\"none\" stroke=\"#000000\" d=\"M136.5082,-429.9698C127.7859,-424.3121 118.1965,-417.9806 109.5122,-412 97.6084,-403.8022 84.7545,-394.5522 73.4232,-386.2575\"/>\n",
       "<polygon fill=\"#000000\" stroke=\"#000000\" points=\"75.2255,-383.2384 65.0957,-380.1339 71.0786,-388.8779 75.2255,-383.2384\"/>\n",
       "<text text-anchor=\"middle\" x=\"125.019\" y=\"-400.8\" font-family=\"Times,serif\" font-size=\"14.00\" fill=\"#000000\">nsubj</text>\n",
       "</g>\n",
       "<!-- 3 -->\n",
       "<g id=\"node5\" class=\"node\">\n",
       "<title>3</title>\n",
       "<text text-anchor=\"middle\" x=\"126.8501\" y=\"-357.8\" font-family=\"Times,serif\" font-size=\"14.00\" fill=\"#000000\">3 (has)</text>\n",
       "</g>\n",
       "<!-- 5&#45;&gt;3 -->\n",
       "<g id=\"edge4\" class=\"edge\">\n",
       "<title>5&#45;&gt;3</title>\n",
       "<path fill=\"none\" stroke=\"#000000\" d=\"M156.7913,-429.7616C151.6524,-418.1316 144.8938,-402.8357 139.0985,-389.72\"/>\n",
       "<polygon fill=\"#000000\" stroke=\"#000000\" points=\"142.1404,-387.9444 134.8973,-380.2121 135.7376,-390.7736 142.1404,-387.9444\"/>\n",
       "<text text-anchor=\"middle\" x=\"158.957\" y=\"-400.8\" font-family=\"Times,serif\" font-size=\"14.00\" fill=\"#000000\">aux</text>\n",
       "</g>\n",
       "<!-- 4 -->\n",
       "<g id=\"node6\" class=\"node\">\n",
       "<title>4</title>\n",
       "<text text-anchor=\"middle\" x=\"202.8501\" y=\"-357.8\" font-family=\"Times,serif\" font-size=\"14.00\" fill=\"#000000\">4 (been)</text>\n",
       "</g>\n",
       "<!-- 5&#45;&gt;4 -->\n",
       "<g id=\"edge5\" class=\"edge\">\n",
       "<title>5&#45;&gt;4</title>\n",
       "<path fill=\"none\" stroke=\"#000000\" d=\"M172.9089,-429.7616C178.0478,-418.1316 184.8064,-402.8357 190.6017,-389.72\"/>\n",
       "<polygon fill=\"#000000\" stroke=\"#000000\" points=\"193.9626,-390.7736 194.8029,-380.2121 187.5598,-387.9444 193.9626,-390.7736\"/>\n",
       "<text text-anchor=\"middle\" x=\"196.957\" y=\"-400.8\" font-family=\"Times,serif\" font-size=\"14.00\" fill=\"#000000\">aux</text>\n",
       "</g>\n",
       "<!-- 7 -->\n",
       "<g id=\"node7\" class=\"node\">\n",
       "<title>7</title>\n",
       "<text text-anchor=\"middle\" x=\"282.8501\" y=\"-357.8\" font-family=\"Times,serif\" font-size=\"14.00\" fill=\"#000000\">7 (keep)</text>\n",
       "</g>\n",
       "<!-- 5&#45;&gt;7 -->\n",
       "<g id=\"edge6\" class=\"edge\">\n",
       "<title>5&#45;&gt;7</title>\n",
       "<path fill=\"none\" stroke=\"#000000\" d=\"M189.5868,-429.9716C207.1298,-417.186 230.8577,-399.8928 249.9894,-385.9493\"/>\n",
       "<polygon fill=\"#000000\" stroke=\"#000000\" points=\"252.126,-388.7231 258.146,-380.0047 248.0031,-383.0661 252.126,-388.7231\"/>\n",
       "<text text-anchor=\"middle\" x=\"250.9019\" y=\"-400.8\" font-family=\"Times,serif\" font-size=\"14.00\" fill=\"#000000\">xcomp</text>\n",
       "</g>\n",
       "<!-- 1 -->\n",
       "<g id=\"node3\" class=\"node\">\n",
       "<title>1</title>\n",
       "<text text-anchor=\"middle\" x=\"40.8501\" y=\"-271.8\" font-family=\"Times,serif\" font-size=\"14.00\" fill=\"#000000\">1 (Al)</text>\n",
       "</g>\n",
       "<!-- 2&#45;&gt;1 -->\n",
       "<g id=\"edge2\" class=\"edge\">\n",
       "<title>2&#45;&gt;1</title>\n",
       "<path fill=\"none\" stroke=\"#000000\" d=\"M40.8501,-343.7616C40.8501,-332.3597 40.8501,-317.4342 40.8501,-304.494\"/>\n",
       "<polygon fill=\"#000000\" stroke=\"#000000\" points=\"44.3502,-304.2121 40.8501,-294.2121 37.3502,-304.2121 44.3502,-304.2121\"/>\n",
       "<text text-anchor=\"middle\" x=\"70.4019\" y=\"-314.8\" font-family=\"Times,serif\" font-size=\"14.00\" fill=\"#000000\">compound</text>\n",
       "</g>\n",
       "<!-- 6 -->\n",
       "<g id=\"node8\" class=\"node\">\n",
       "<title>6</title>\n",
       "<text text-anchor=\"middle\" x=\"195.8501\" y=\"-271.8\" font-family=\"Times,serif\" font-size=\"14.00\" fill=\"#000000\">6 (to)</text>\n",
       "</g>\n",
       "<!-- 7&#45;&gt;6 -->\n",
       "<g id=\"edge7\" class=\"edge\">\n",
       "<title>7&#45;&gt;6</title>\n",
       "<path fill=\"none\" stroke=\"#000000\" d=\"M264.3996,-343.7616C251.9423,-331.4475 235.3274,-315.0235 221.5751,-301.4293\"/>\n",
       "<polygon fill=\"#000000\" stroke=\"#000000\" points=\"223.8464,-298.7531 214.274,-294.2121 218.9253,-303.7314 223.8464,-298.7531\"/>\n",
       "<text text-anchor=\"middle\" x=\"259.2329\" y=\"-314.8\" font-family=\"Times,serif\" font-size=\"14.00\" fill=\"#000000\">mark</text>\n",
       "</g>\n",
       "<!-- 8 -->\n",
       "<g id=\"node9\" class=\"node\">\n",
       "<title>8</title>\n",
       "<text text-anchor=\"middle\" x=\"282.8501\" y=\"-271.8\" font-family=\"Times,serif\" font-size=\"14.00\" fill=\"#000000\">8 (Walmart)</text>\n",
       "</g>\n",
       "<!-- 7&#45;&gt;8 -->\n",
       "<g id=\"edge8\" class=\"edge\">\n",
       "<title>7&#45;&gt;8</title>\n",
       "<path fill=\"none\" stroke=\"#000000\" d=\"M282.8501,-343.7616C282.8501,-332.3597 282.8501,-317.4342 282.8501,-304.494\"/>\n",
       "<polygon fill=\"#000000\" stroke=\"#000000\" points=\"286.3502,-304.2121 282.8501,-294.2121 279.3502,-304.2121 286.3502,-304.2121\"/>\n",
       "<text text-anchor=\"middle\" x=\"295.2949\" y=\"-314.8\" font-family=\"Times,serif\" font-size=\"14.00\" fill=\"#000000\">dobj</text>\n",
       "</g>\n",
       "<!-- 19 -->\n",
       "<g id=\"node10\" class=\"node\">\n",
       "<title>19</title>\n",
       "<text text-anchor=\"middle\" x=\"416.8501\" y=\"-271.8\" font-family=\"Times,serif\" font-size=\"14.00\" fill=\"#000000\">19 (one)</text>\n",
       "</g>\n",
       "<!-- 7&#45;&gt;19 -->\n",
       "<g id=\"edge9\" class=\"edge\">\n",
       "<title>7&#45;&gt;19</title>\n",
       "<path fill=\"none\" stroke=\"#000000\" d=\"M310.9409,-343.9716C331.0413,-331.0713 358.2917,-313.5822 380.117,-299.575\"/>\n",
       "<polygon fill=\"#000000\" stroke=\"#000000\" points=\"382.2709,-302.3515 388.7963,-294.0047 378.49,-296.4604 382.2709,-302.3515\"/>\n",
       "<text text-anchor=\"middle\" x=\"374.7949\" y=\"-314.8\" font-family=\"Times,serif\" font-size=\"14.00\" fill=\"#000000\">nmod</text>\n",
       "</g>\n",
       "<!-- 9 -->\n",
       "<g id=\"node11\" class=\"node\">\n",
       "<title>9</title>\n",
       "<text text-anchor=\"middle\" x=\"192.8501\" y=\"-185.8\" font-family=\"Times,serif\" font-size=\"14.00\" fill=\"#000000\">9 (and)</text>\n",
       "</g>\n",
       "<!-- 8&#45;&gt;9 -->\n",
       "<g id=\"edge10\" class=\"edge\">\n",
       "<title>8&#45;&gt;9</title>\n",
       "<path fill=\"none\" stroke=\"#000000\" d=\"M263.7634,-257.7616C250.8766,-245.4475 233.6887,-229.0235 219.4621,-215.4293\"/>\n",
       "<polygon fill=\"#000000\" stroke=\"#000000\" points=\"221.5572,-212.5902 211.9093,-208.2121 216.7212,-217.6512 221.5572,-212.5902\"/>\n",
       "<text text-anchor=\"middle\" x=\"250.064\" y=\"-228.8\" font-family=\"Times,serif\" font-size=\"14.00\" fill=\"#000000\">cc</text>\n",
       "</g>\n",
       "<!-- 12 -->\n",
       "<g id=\"node12\" class=\"node\">\n",
       "<title>12</title>\n",
       "<text text-anchor=\"middle\" x=\"282.8501\" y=\"-185.8\" font-family=\"Times,serif\" font-size=\"14.00\" fill=\"#000000\">12 (retailers)</text>\n",
       "</g>\n",
       "<!-- 8&#45;&gt;12 -->\n",
       "<g id=\"edge11\" class=\"edge\">\n",
       "<title>8&#45;&gt;12</title>\n",
       "<path fill=\"none\" stroke=\"#000000\" d=\"M282.8501,-257.7616C282.8501,-246.3597 282.8501,-231.4342 282.8501,-218.494\"/>\n",
       "<polygon fill=\"#000000\" stroke=\"#000000\" points=\"286.3502,-218.2121 282.8501,-208.2121 279.3502,-218.2121 286.3502,-218.2121\"/>\n",
       "<text text-anchor=\"middle\" x=\"294.9019\" y=\"-228.8\" font-family=\"Times,serif\" font-size=\"14.00\" fill=\"#000000\">conj</text>\n",
       "</g>\n",
       "<!-- 17 -->\n",
       "<g id=\"node19\" class=\"node\">\n",
       "<title>17</title>\n",
       "<text text-anchor=\"middle\" x=\"376.8501\" y=\"-185.8\" font-family=\"Times,serif\" font-size=\"14.00\" fill=\"#000000\">17 (like)</text>\n",
       "</g>\n",
       "<!-- 19&#45;&gt;17 -->\n",
       "<g id=\"edge18\" class=\"edge\">\n",
       "<title>19&#45;&gt;17</title>\n",
       "<path fill=\"none\" stroke=\"#000000\" d=\"M408.3671,-257.7616C402.9048,-246.0176 395.7038,-230.5355 389.564,-217.3349\"/>\n",
       "<polygon fill=\"#000000\" stroke=\"#000000\" points=\"392.7117,-215.8032 385.3208,-208.2121 386.3647,-218.7554 392.7117,-215.8032\"/>\n",
       "<text text-anchor=\"middle\" x=\"411.895\" y=\"-228.8\" font-family=\"Times,serif\" font-size=\"14.00\" fill=\"#000000\">case</text>\n",
       "</g>\n",
       "<!-- 18 -->\n",
       "<g id=\"node20\" class=\"node\">\n",
       "<title>18</title>\n",
       "<text text-anchor=\"middle\" x=\"457.8501\" y=\"-185.8\" font-family=\"Times,serif\" font-size=\"14.00\" fill=\"#000000\">18 (this)</text>\n",
       "</g>\n",
       "<!-- 19&#45;&gt;18 -->\n",
       "<g id=\"edge19\" class=\"edge\">\n",
       "<title>19&#45;&gt;18</title>\n",
       "<path fill=\"none\" stroke=\"#000000\" d=\"M425.5451,-257.7616C431.144,-246.0176 438.525,-230.5355 444.8184,-217.3349\"/>\n",
       "<polygon fill=\"#000000\" stroke=\"#000000\" points=\"448.0235,-218.745 449.1676,-208.2121 441.7048,-215.7326 448.0235,-218.745\"/>\n",
       "<text text-anchor=\"middle\" x=\"448.4019\" y=\"-228.8\" font-family=\"Times,serif\" font-size=\"14.00\" fill=\"#000000\">det</text>\n",
       "</g>\n",
       "<!-- 22 -->\n",
       "<g id=\"node21\" class=\"node\">\n",
       "<title>22</title>\n",
       "<text text-anchor=\"middle\" x=\"543.8501\" y=\"-185.8\" font-family=\"Times,serif\" font-size=\"14.00\" fill=\"#000000\">22 (years)</text>\n",
       "</g>\n",
       "<!-- 19&#45;&gt;22 -->\n",
       "<g id=\"edge20\" class=\"edge\">\n",
       "<title>19&#45;&gt;22</title>\n",
       "<path fill=\"none\" stroke=\"#000000\" d=\"M443.4735,-257.9716C462.4392,-245.1286 488.1213,-227.7376 508.7598,-213.7619\"/>\n",
       "<polygon fill=\"#000000\" stroke=\"#000000\" points=\"510.9441,-216.5098 517.2618,-208.0047 507.0191,-210.7137 510.9441,-216.5098\"/>\n",
       "<text text-anchor=\"middle\" x=\"504.7949\" y=\"-228.8\" font-family=\"Times,serif\" font-size=\"14.00\" fill=\"#000000\">nmod</text>\n",
       "</g>\n",
       "<!-- 10 -->\n",
       "<g id=\"node13\" class=\"node\">\n",
       "<title>10</title>\n",
       "<text text-anchor=\"middle\" x=\"185.8501\" y=\"-99.8\" font-family=\"Times,serif\" font-size=\"14.00\" fill=\"#000000\">10 (other)</text>\n",
       "</g>\n",
       "<!-- 12&#45;&gt;10 -->\n",
       "<g id=\"edge12\" class=\"edge\">\n",
       "<title>12&#45;&gt;10</title>\n",
       "<path fill=\"none\" stroke=\"#000000\" d=\"M262.2789,-171.7616C248.2611,-159.3335 229.5216,-142.719 214.1069,-129.0524\"/>\n",
       "<polygon fill=\"#000000\" stroke=\"#000000\" points=\"216.1962,-126.2273 206.3916,-122.2121 211.5523,-131.4651 216.1962,-126.2273\"/>\n",
       "<text text-anchor=\"middle\" x=\"256.4019\" y=\"-142.8\" font-family=\"Times,serif\" font-size=\"14.00\" fill=\"#000000\">amod</text>\n",
       "</g>\n",
       "<!-- 11 -->\n",
       "<g id=\"node14\" class=\"node\">\n",
       "<title>11</title>\n",
       "<text text-anchor=\"middle\" x=\"282.8501\" y=\"-99.8\" font-family=\"Times,serif\" font-size=\"14.00\" fill=\"#000000\">11 (big&#45;box)</text>\n",
       "</g>\n",
       "<!-- 12&#45;&gt;11 -->\n",
       "<g id=\"edge13\" class=\"edge\">\n",
       "<title>12&#45;&gt;11</title>\n",
       "<path fill=\"none\" stroke=\"#000000\" d=\"M282.8501,-171.7616C282.8501,-160.3597 282.8501,-145.4342 282.8501,-132.494\"/>\n",
       "<polygon fill=\"#000000\" stroke=\"#000000\" points=\"286.3502,-132.2121 282.8501,-122.2121 279.3502,-132.2121 286.3502,-132.2121\"/>\n",
       "<text text-anchor=\"middle\" x=\"298.4019\" y=\"-142.8\" font-family=\"Times,serif\" font-size=\"14.00\" fill=\"#000000\">amod</text>\n",
       "</g>\n",
       "<!-- 16 -->\n",
       "<g id=\"node15\" class=\"node\">\n",
       "<title>16</title>\n",
       "<text text-anchor=\"middle\" x=\"381.8501\" y=\"-99.8\" font-family=\"Times,serif\" font-size=\"14.00\" fill=\"#000000\">16 (towns)</text>\n",
       "</g>\n",
       "<!-- 12&#45;&gt;16 -->\n",
       "<g id=\"edge14\" class=\"edge\">\n",
       "<title>12&#45;&gt;16</title>\n",
       "<path fill=\"none\" stroke=\"#000000\" d=\"M303.8455,-171.7616C318.1522,-159.3335 337.2782,-142.719 353.0107,-129.0524\"/>\n",
       "<polygon fill=\"#000000\" stroke=\"#000000\" points=\"355.631,-131.4124 360.885,-122.2121 351.0403,-126.1279 355.631,-131.4124\"/>\n",
       "<text text-anchor=\"middle\" x=\"354.7949\" y=\"-142.8\" font-family=\"Times,serif\" font-size=\"14.00\" fill=\"#000000\">nmod</text>\n",
       "</g>\n",
       "<!-- 13 -->\n",
       "<g id=\"node16\" class=\"node\">\n",
       "<title>13</title>\n",
       "<text text-anchor=\"middle\" x=\"305.8501\" y=\"-13.8\" font-family=\"Times,serif\" font-size=\"14.00\" fill=\"#000000\">13 (out)</text>\n",
       "</g>\n",
       "<!-- 16&#45;&gt;13 -->\n",
       "<g id=\"edge15\" class=\"edge\">\n",
       "<title>16&#45;&gt;13</title>\n",
       "<path fill=\"none\" stroke=\"#000000\" d=\"M352.7729,-85.9685C345.6902,-80.7315 338.5043,-74.62 332.7466,-68 326.9521,-61.3378 321.9196,-53.216 317.8252,-45.4718\"/>\n",
       "<polygon fill=\"#000000\" stroke=\"#000000\" points=\"320.878,-43.749 313.3082,-36.3363 314.6031,-46.8517 320.878,-43.749\"/>\n",
       "<text text-anchor=\"middle\" x=\"355.4019\" y=\"-56.8\" font-family=\"Times,serif\" font-size=\"14.00\" fill=\"#000000\">advmod</text>\n",
       "</g>\n",
       "<!-- 14 -->\n",
       "<g id=\"node17\" class=\"node\">\n",
       "<title>14</title>\n",
       "<text text-anchor=\"middle\" x=\"381.8501\" y=\"-13.8\" font-family=\"Times,serif\" font-size=\"14.00\" fill=\"#000000\">14 (of)</text>\n",
       "</g>\n",
       "<!-- 16&#45;&gt;14 -->\n",
       "<g id=\"edge16\" class=\"edge\">\n",
       "<title>16&#45;&gt;14</title>\n",
       "<path fill=\"none\" stroke=\"#000000\" d=\"M381.8501,-85.7616C381.8501,-74.3597 381.8501,-59.4342 381.8501,-46.494\"/>\n",
       "<polygon fill=\"#000000\" stroke=\"#000000\" points=\"385.3502,-46.2121 381.8501,-36.2121 378.3502,-46.2121 385.3502,-46.2121\"/>\n",
       "<text text-anchor=\"middle\" x=\"393.895\" y=\"-56.8\" font-family=\"Times,serif\" font-size=\"14.00\" fill=\"#000000\">case</text>\n",
       "</g>\n",
       "<!-- 15 -->\n",
       "<g id=\"node18\" class=\"node\">\n",
       "<title>15</title>\n",
       "<text text-anchor=\"middle\" x=\"463.8501\" y=\"-13.8\" font-family=\"Times,serif\" font-size=\"14.00\" fill=\"#000000\">15 (small)</text>\n",
       "</g>\n",
       "<!-- 16&#45;&gt;15 -->\n",
       "<g id=\"edge17\" class=\"edge\">\n",
       "<title>16&#45;&gt;15</title>\n",
       "<path fill=\"none\" stroke=\"#000000\" d=\"M399.2402,-85.7616C410.8728,-73.5615 426.3519,-57.3273 439.2428,-43.8076\"/>\n",
       "<polygon fill=\"#000000\" stroke=\"#000000\" points=\"442.1174,-45.8648 446.4851,-36.2121 437.0512,-41.0342 442.1174,-45.8648\"/>\n",
       "<text text-anchor=\"middle\" x=\"443.4019\" y=\"-56.8\" font-family=\"Times,serif\" font-size=\"14.00\" fill=\"#000000\">amod</text>\n",
       "</g>\n",
       "<!-- 20 -->\n",
       "<g id=\"node22\" class=\"node\">\n",
       "<title>20</title>\n",
       "<text text-anchor=\"middle\" x=\"505.8501\" y=\"-99.8\" font-family=\"Times,serif\" font-size=\"14.00\" fill=\"#000000\">20 (for)</text>\n",
       "</g>\n",
       "<!-- 22&#45;&gt;20 -->\n",
       "<g id=\"edge21\" class=\"edge\">\n",
       "<title>22&#45;&gt;20</title>\n",
       "<path fill=\"none\" stroke=\"#000000\" d=\"M535.7913,-171.7616C530.6524,-160.1316 523.8938,-144.8357 518.0985,-131.72\"/>\n",
       "<polygon fill=\"#000000\" stroke=\"#000000\" points=\"521.1404,-129.9444 513.8973,-122.2121 514.7376,-132.7736 521.1404,-129.9444\"/>\n",
       "<text text-anchor=\"middle\" x=\"539.895\" y=\"-142.8\" font-family=\"Times,serif\" font-size=\"14.00\" fill=\"#000000\">case</text>\n",
       "</g>\n",
       "<!-- 21 -->\n",
       "<g id=\"node23\" class=\"node\">\n",
       "<title>21</title>\n",
       "<text text-anchor=\"middle\" x=\"581.8501\" y=\"-99.8\" font-family=\"Times,serif\" font-size=\"14.00\" fill=\"#000000\">21 (25)</text>\n",
       "</g>\n",
       "<!-- 22&#45;&gt;21 -->\n",
       "<g id=\"edge22\" class=\"edge\">\n",
       "<title>22&#45;&gt;21</title>\n",
       "<path fill=\"none\" stroke=\"#000000\" d=\"M551.9089,-171.7616C557.0478,-160.1316 563.8064,-144.8357 569.6017,-131.72\"/>\n",
       "<polygon fill=\"#000000\" stroke=\"#000000\" points=\"572.9626,-132.7736 573.8029,-122.2121 566.5598,-129.9444 572.9626,-132.7736\"/>\n",
       "<text text-anchor=\"middle\" x=\"589.7397\" y=\"-142.8\" font-family=\"Times,serif\" font-size=\"14.00\" fill=\"#000000\">nummod</text>\n",
       "</g>\n",
       "</g>\n",
       "</svg>\n"
      ],
      "text/plain": [
       "<DependencyGraph with 23 nodes>"
      ]
     },
     "execution_count": 61,
     "metadata": {},
     "output_type": "execute_result"
    }
   ],
   "source": [
    "parse_tree"
   ]
  },
  {
   "cell_type": "markdown",
   "metadata": {},
   "source": [
    "# Noun Phrases (Chunks)"
   ]
  },
  {
   "cell_type": "markdown",
   "metadata": {},
   "source": [
    "##### spaCy"
   ]
  },
  {
   "cell_type": "code",
   "execution_count": 81,
   "metadata": {},
   "outputs": [
    {
     "data": {
      "text/plain": [
       "[Al Norman, Walmart, other big-box retailers, small towns, this one, 25 years]"
      ]
     },
     "execution_count": 81,
     "metadata": {},
     "output_type": "execute_result"
    }
   ],
   "source": [
    "doc = nlp(test_sent)\n",
    "list(doc.noun_chunks)"
   ]
  },
  {
   "cell_type": "markdown",
   "metadata": {},
   "source": [
    "##### NLTK"
   ]
  },
  {
   "cell_type": "code",
   "execution_count": 67,
   "metadata": {},
   "outputs": [],
   "source": [
    "parse_tree = list(scp.raw_parse(test_sent))[0]"
   ]
  },
  {
   "cell_type": "code",
   "execution_count": 92,
   "metadata": {},
   "outputs": [
    {
     "data": {
      "text/plain": [
       "[('Al Norman', 1),\n",
       " ('Walmart', 1),\n",
       " ('other big-box retailers', 1),\n",
       " ('small towns', 1),\n",
       " ('this one', 1),\n",
       " ('25 years', 1)]"
      ]
     },
     "execution_count": 92,
     "metadata": {},
     "output_type": "execute_result"
    }
   ],
   "source": [
    "[(' '.join(tree.leaves()), len(list(tree.subtrees(filter=lambda t: t.label() == 'NP')))) for tree in parse_tree.subtrees(filter=lambda t: t.label() == 'NP') if len(list(tree.subtrees(filter=lambda t: t.label() == 'NP'))) == 1]"
   ]
  },
  {
   "cell_type": "markdown",
   "metadata": {},
   "source": [
    "# Named Entities\n",
    "Apply categorical labels to sequences of tokens (such as proper nouns) that represent different types of entities: such as people, places, organizations, etc. The categories can be whatever you want them to be if you build your own Named Entity Recognitino (NER) model. If you use someone else's model, you have to use the categories/labels that they trained the model to recognize. And the model will only be as good as the data it was trained on. Meaning if you try to use a pretrained model on text that is very different from the text it was trained on, you may not get very good results."
   ]
  },
  {
   "cell_type": "markdown",
   "metadata": {},
   "source": [
    "##### spaCy\n",
    "[See here for more info on the entity types spaCy's models are trained to recognize](https://spacy.io/api/annotation#section-named-entities)"
   ]
  },
  {
   "cell_type": "code",
   "execution_count": 121,
   "metadata": {},
   "outputs": [],
   "source": [
    "test_sent = 'FC Bayern was founded in 1900 by eleven football players led by Franz John.'"
   ]
  },
  {
   "cell_type": "code",
   "execution_count": 123,
   "metadata": {},
   "outputs": [],
   "source": [
    "doc = nlp(test_sent)"
   ]
  },
  {
   "cell_type": "code",
   "execution_count": 124,
   "metadata": {},
   "outputs": [
    {
     "data": {
      "text/plain": [
       "[(FC Bayern, 'ORG'),\n",
       " (1900, 'DATE'),\n",
       " (eleven, 'CARDINAL'),\n",
       " (Franz John, 'PERSON')]"
      ]
     },
     "execution_count": 124,
     "metadata": {},
     "output_type": "execute_result"
    }
   ],
   "source": [
    "[(e, e.label_) for e in doc.ents]"
   ]
  },
  {
   "cell_type": "code",
   "execution_count": 125,
   "metadata": {},
   "outputs": [
    {
     "data": {
      "text/plain": [
       "[(FC, 'ORG'),\n",
       " (Bayern, 'ORG'),\n",
       " (was, ''),\n",
       " (founded, ''),\n",
       " (in, ''),\n",
       " (1900, 'DATE'),\n",
       " (by, ''),\n",
       " (eleven, 'CARDINAL'),\n",
       " (football, ''),\n",
       " (players, ''),\n",
       " (led, ''),\n",
       " (by, ''),\n",
       " (Franz, 'PERSON'),\n",
       " (John, 'PERSON'),\n",
       " (., '')]"
      ]
     },
     "execution_count": 125,
     "metadata": {},
     "output_type": "execute_result"
    }
   ],
   "source": [
    "# Also notice that all tokens in a Doc/Span have entity types as well.\n",
    "[(t, t.ent_type_) for t in doc]"
   ]
  },
  {
   "cell_type": "markdown",
   "metadata": {},
   "source": [
    "##### NLTK"
   ]
  },
  {
   "cell_type": "code",
   "execution_count": 126,
   "metadata": {
    "scrolled": true
   },
   "outputs": [],
   "source": [
    "tokens = word_tokenize('FC Bayern was founded in 1900 by eleven football players led by Franz John.')\n"
   ]
  },
  {
   "cell_type": "code",
   "execution_count": 127,
   "metadata": {},
   "outputs": [],
   "source": [
    "tagged_tokens = nltk.pos_tag(tokens)"
   ]
  },
  {
   "cell_type": "code",
   "execution_count": 128,
   "metadata": {},
   "outputs": [
    {
     "data": {
      "image/png": "[encoded data removed]",
      "text/plain": [
       "Tree('S', [('FC', 'NNP'), Tree('PERSON', [('Bayern', 'NNP')]), ('was', 'VBD'), ('founded', 'VBN'), ('in', 'IN'), ('1900', 'CD'), ('by', 'IN'), ('eleven', 'VBG'), ('football', 'NN'), ('players', 'NNS'), ('led', 'VBN'), ('by', 'IN'), Tree('PERSON', [('Franz', 'NNP'), ('John', 'NNP')]), ('.', '.')])"
      ]
     },
     "execution_count": 128,
     "metadata": {},
     "output_type": "execute_result"
    }
   ],
   "source": [
    "named_entity_chunks = nltk.ne_chunk(tagged_tokens)\n",
    "named_entity_chunks"
   ]
  },
  {
   "cell_type": "code",
   "execution_count": 133,
   "metadata": {},
   "outputs": [
    {
     "data": {
      "text/plain": [
       "[('PERSON', 'Bayern'), ('PERSON', 'Franz John')]"
      ]
     },
     "execution_count": 133,
     "metadata": {},
     "output_type": "execute_result"
    }
   ],
   "source": [
    "[(ne.label(), ' '.join(leaf[0] for leaf in ne.leaves())) for ne in named_entity_chunks if hasattr(ne, 'label')]"
   ]
  },
  {
   "cell_type": "markdown",
   "metadata": {},
   "source": [
    "# Extracting Phrases/Chunks (an example)"
   ]
  },
  {
   "cell_type": "markdown",
   "metadata": {},
   "source": [
    "##### only spaCy"
   ]
  },
  {
   "cell_type": "markdown",
   "metadata": {},
   "source": [
    "### prepositional phrases"
   ]
  },
  {
   "cell_type": "code",
   "execution_count": 147,
   "metadata": {},
   "outputs": [],
   "source": [
    "text = \"\"\"Bayern Munich, or FC Bayern, is a German sports club based in Munich, Bavaria, Germany. It is best known for its professional football team, which plays in the Bundesliga, the top tier of the German football league system, and is the most successful club in German football history, having won a record 26 national titles and 18 national cups. FC Bayern was founded in 1900 by eleven football players led by Franz John. Although Bayern won its first national championship in 1932, the club was not selected for the Bundesliga at its inception in 1963. The club had its period of greatest success in the middle of the 1970s when, under the captaincy of Franz Beckenbauer, it won the European Cup three times in a row (1974-76). Overall, Bayern has reached ten UEFA Champions League finals, most recently winning their fifth title in 2013 as part of a continental treble.\"\"\""
   ]
  },
  {
   "cell_type": "code",
   "execution_count": 148,
   "metadata": {},
   "outputs": [],
   "source": [
    "doc = nlp(text)"
   ]
  },
  {
   "cell_type": "code",
   "execution_count": 149,
   "metadata": {},
   "outputs": [
    {
     "data": {
      "text/plain": [
       "[Munich, team, Bundesliga, system, history]"
      ]
     },
     "execution_count": 149,
     "metadata": {},
     "output_type": "execute_result"
    }
   ],
   "source": [
    "prep_objs = [token for token in doc if token.dep_ == 'pobj']\n",
    "prep_objs[:5]"
   ]
  },
  {
   "cell_type": "code",
   "execution_count": 152,
   "metadata": {},
   "outputs": [
    {
     "name": "stdout",
     "output_type": "stream",
     "text": [
      "in Munich --- in Munich     <class 'spacy.tokens.span.Span'>\n",
      "for team --- for its professional football team     <class 'spacy.tokens.span.Span'>\n",
      "in Bundesliga --- in the Bundesliga     <class 'spacy.tokens.span.Span'>\n",
      "of system --- of the German football league system     <class 'spacy.tokens.span.Span'>\n",
      "in history --- in German football history     <class 'spacy.tokens.span.Span'>\n",
      "in 1900 --- in 1900     <class 'spacy.tokens.span.Span'>\n",
      "by players --- by eleven football players     <class 'spacy.tokens.span.Span'>\n",
      "by John --- by Franz John     <class 'spacy.tokens.span.Span'>\n",
      "in 1932 --- in 1932     <class 'spacy.tokens.span.Span'>\n",
      "for Bundesliga --- for the Bundesliga     <class 'spacy.tokens.span.Span'>\n",
      "at inception --- at its inception     <class 'spacy.tokens.span.Span'>\n",
      "in 1963 --- in 1963     <class 'spacy.tokens.span.Span'>\n",
      "of success --- of greatest success     <class 'spacy.tokens.span.Span'>\n",
      "in middle --- in the middle     <class 'spacy.tokens.span.Span'>\n",
      "of 1970s --- of the 1970s     <class 'spacy.tokens.span.Span'>\n",
      "under captaincy --- under the captaincy     <class 'spacy.tokens.span.Span'>\n",
      "of Beckenbauer --- of Franz Beckenbauer     <class 'spacy.tokens.span.Span'>\n",
      "in row --- in a row     <class 'spacy.tokens.span.Span'>\n",
      "in 2013 --- in 2013     <class 'spacy.tokens.span.Span'>\n",
      "as part --- as part     <class 'spacy.tokens.span.Span'>\n",
      "of treble --- of a continental treble     <class 'spacy.tokens.span.Span'>\n"
     ]
    }
   ],
   "source": [
    "for prep_obj in prep_objs:\n",
    "    prep = prep_obj.head\n",
    "    phrase = doc[prep.i:prep_obj.i + 1]\n",
    "    print(prep, prep_obj, '---', phrase, '   ', type(phrase))"
   ]
  },
  {
   "cell_type": "markdown",
   "metadata": {},
   "source": [
    "# Other tasks"
   ]
  },
  {
   "cell_type": "markdown",
   "metadata": {},
   "source": [
    "spaCy can't do everything. Stanford's CoreNLP project can help fill in some of the gaps."
   ]
  },
  {
   "cell_type": "markdown",
   "metadata": {},
   "source": [
    "## Coreference Resolution"
   ]
  },
  {
   "cell_type": "markdown",
   "metadata": {},
   "source": [
    "Figure out which terms reference each other in a sentence<br>\n",
    "<br>\n",
    "This is extremely helpful for figuring out what pronouns are referencing when you are trying to extract information from text."
   ]
  },
  {
   "cell_type": "code",
   "execution_count": 156,
   "metadata": {},
   "outputs": [],
   "source": [
    "text = \"\"\"Barack Obama was born in Hawaii.  He is the president. Obama was elected in 2008.\"\"\""
   ]
  },
  {
   "cell_type": "code",
   "execution_count": 154,
   "metadata": {},
   "outputs": [],
   "source": [
    "from pycorenlp import StanfordCoreNLP"
   ]
  },
  {
   "cell_type": "code",
   "execution_count": 155,
   "metadata": {},
   "outputs": [],
   "source": [
    "# first start the CoreNLP server by running\n",
    "# java -mx4g -cp \"*\" edu.stanford.nlp.pipeline.StanfordCoreNLPServer -port 9000 -timeout 15000\n",
    "\n",
    "corenlp = StanfordCoreNLP('http://localhost:9000')"
   ]
  },
  {
   "cell_type": "code",
   "execution_count": 158,
   "metadata": {},
   "outputs": [],
   "source": [
    "# the first run, and any runs where you change annotators is slow\n",
    "results = corenlp.annotate(text, properties={'annotators': 'ssplit, tokenize, coref',\n",
    "                                             'coref.algorithm': 'statistical',\n",
    "                                             'outputFormat': 'json'\n",
    "                                            })"
   ]
  },
  {
   "cell_type": "code",
   "execution_count": 159,
   "metadata": {},
   "outputs": [
    {
     "data": {
      "text/plain": [
       "dict_keys(['sentences', 'corefs'])"
      ]
     },
     "execution_count": 159,
     "metadata": {},
     "output_type": "execute_result"
    }
   ],
   "source": [
    "results.keys()"
   ]
  },
  {
   "cell_type": "code",
   "execution_count": 161,
   "metadata": {},
   "outputs": [
    {
     "name": "stdout",
     "output_type": "stream",
     "text": [
      "Barack Obama\n",
      "He\n",
      "Obama\n"
     ]
    }
   ],
   "source": [
    "for coref_id, corefs in results['corefs'].items():\n",
    "    for coref in corefs:\n",
    "        print(coref['text'])"
   ]
  },
  {
   "cell_type": "markdown",
   "metadata": {},
   "source": [
    "# Other Modules to Check Out"
   ]
  },
  {
   "cell_type": "markdown",
   "metadata": {},
   "source": [
    "- [Textacy](https://github.com/chartbeat-labs/textacy)\n",
    "- [Textblob](http://textblob.readthedocs.io/en/dev/)\n",
    "- [Pattern](https://github.com/clips/pattern)\n",
    "- [Stanford CoreNLP](https://stanfordnlp.github.io/CoreNLP/index.html) via [pycorenlp](https://github.com/smilli/py-corenlp)"
   ]
  },
  {
   "cell_type": "markdown",
   "metadata": {},
   "source": [
    "# References"
   ]
  },
  {
   "cell_type": "markdown",
   "metadata": {},
   "source": [
    "Dipanjan Sarkar. 2016. Text Analytics with Python: A Practical Real-World Approach to Gaining Actionable Insights from Your Data (1st ed.). Apress, Berkely, CA, USA. "
   ]
  },
  {
   "cell_type": "code",
   "execution_count": null,
   "metadata": {},
   "outputs": [],
   "source": []
  }
 ],
 "metadata": {
  "kernelspec": {
   "display_name": "Python 3",
   "language": "python",
   "name": "python3"
  },
  "language_info": {
   "codemirror_mode": {
    "name": "ipython",
    "version": 3
   },
   "file_extension": ".py",
   "mimetype": "text/x-python",
   "name": "python",
   "nbconvert_exporter": "python",
   "pygments_lexer": "ipython3",
   "version": "3.6.4"
  }
 },
 "nbformat": 4,
 "nbformat_minor": 2
}
