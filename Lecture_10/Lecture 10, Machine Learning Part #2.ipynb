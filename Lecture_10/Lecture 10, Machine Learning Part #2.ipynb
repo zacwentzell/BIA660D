{
 "cells": [
  {
   "cell_type": "markdown",
   "metadata": {},
   "source": [
    "# Feature Extraction"
   ]
  },
  {
   "cell_type": "markdown",
   "metadata": {},
   "source": [
    "#### Feature extraction is the process of extracting useful features from data in a format that can be utilized by machine learning algorithms.\n",
    "\n",
    "\n",
    "##### from http://scikit-learn.org/stable/modules/feature_extraction.html\n",
    "> Note:<br>\n",
    "<b>Feature extraction</b> is very different from <b>Feature selection</b>: the former consists in transforming arbitrary data, such as text or images, into numerical features usable for machine learning. The latter is a machine learning technique applied on these features. "
   ]
  },
  {
   "cell_type": "markdown",
   "metadata": {},
   "source": [
    "## Extracting Features from Text"
   ]
  },
  {
   "cell_type": "markdown",
   "metadata": {},
   "source": [
    "##### From C. C. Aggarwal, Machine Learning for Text. Cham: Springer International Publishing, 2018.\n",
    "> The ordering of words in a document provides a semantic meaning that cannot be\n",
    "inferred from a representation based on only the frequencies of words in that document.\n",
    "Nevertheless, it is still possible to make many types of useful predictions without inferring\n",
    "the semantic meaning. There are two feature representations that are popularly used in\n",
    "mining applications:<br>\n",
    "1. Text as a bag-of-words: This is the most commonly used representation for text mining.\n",
    "In this case, the ordering of the words is not used in the mining process. The set\n",
    "of words in a document is converted into a sparse multidimensional representation,\n",
    "which is leveraged for mining purposes. Therefore, the universe of words (or terms)\n",
    "corresponds to the dimensions (or features) in this representation. For many applications\n",
    "such as classification, topic-modeling, and recommender systems, this type of\n",
    "representation is sufficient.<br>\n",
    "<br>\n",
    "2. Text as a set of sequences: In this case, the individual sentences in a document are\n",
    "extracted as strings or sequences. Therefore, the ordering of words matters in this\n",
    "representation, although the ordering is often localized within sentence or paragraph\n",
    "boundaries. A document is often treated as a set of independent and smaller units (e.g.,\n",
    "sentences or paragraphs). This approach is used by applications that require greater\n",
    "semantic interpretation of the document content. This area is closely related to that\n",
    "of language modeling and natural language processing. The latter is often treated as a\n",
    "distinct field in its own right.\n",
    "Text mining has traditionally focused on the first type of representation, although recent\n",
    "years have seen an increasing amount of attention on the second representation. This is\n",
    "primarily because of the increasing importance of artificial intelligence applications in which\n",
    "the language semantics, reasoning, and understanding are required. For example, questionanswering\n",
    "systems have become increasingly popular in recent years, which require a greater\n",
    "degree of understanding and reasoning."
   ]
  },
  {
   "cell_type": "markdown",
   "metadata": {},
   "source": [
    "#### In this class, we will focus only on the bag-of-words representation. A class in Natural Language Processing will offer more exposure to the second type. <br>Recall what I covered in the Intro to NLP lecture. What are the first steps?"
   ]
  },
  {
   "cell_type": "markdown",
   "metadata": {},
   "source": [
    "##### From http://scikit-learn.org/stable/modules/feature_extraction.html\n",
    "\n",
    "> Text Analysis is a major application field for machine learning algorithms. However the raw data, a sequence of symbols cannot be fed directly to the algorithms themselves as most of them expect numerical feature vectors with a fixed size rather than the raw text documents with variable length.\n",
    "<br><br>\n",
    "In order to address this, scikit-learn provides utilities for the most common ways to extract numerical features from text content, namely:\n",
    "- tokenizing strings and giving an integer id for each possible token, for instance by using white-spaces and punctuation as token separators.\n",
    "- counting the occurrences of tokens in each document.\n",
    "- normalizing and weighting with diminishing importance tokens that occur in the majority of samples / documents.\n",
    "<br><br>\n",
    "\n",
    "> In this scheme, features and samples are defined as follows:\n",
    "- each individual token occurrence frequency (normalized or not) is treated as a feature.\n",
    "- the vector of all the token frequencies for a given document is considered a multivariate sample.\n",
    "<br><br>\n",
    "\n",
    "> A corpus of documents can thus be represented by a matrix with one row per document and one column per token (e.g. word) occurring in the corpus.\n",
    "<br><br>\n",
    "We call vectorization the general process of turning a collection of text documents into numerical feature vectors. This specific strategy (tokenization, counting and normalization) is called the Bag of Words or “Bag of n-grams” representation. Documents are described by word occurrences while completely ignoring the relative position information of the words in the document."
   ]
  },
  {
   "cell_type": "code",
   "execution_count": 1,
   "metadata": {},
   "outputs": [],
   "source": [
    "example_sentences = ['Bob is a man and Bob is happy.', \n",
    "                     'Sally is a woman and Sally is happy and Sally is not a man.', \n",
    "                     'Fido is a dog and Fido is happy.']"
   ]
  },
  {
   "cell_type": "code",
   "execution_count": 2,
   "metadata": {},
   "outputs": [],
   "source": [
    "from sklearn.feature_extraction.text import CountVectorizer"
   ]
  },
  {
   "cell_type": "code",
   "execution_count": 3,
   "metadata": {},
   "outputs": [],
   "source": [
    "cv = CountVectorizer(lowercase=True)"
   ]
  },
  {
   "cell_type": "code",
   "execution_count": 4,
   "metadata": {},
   "outputs": [
    {
     "data": {
      "text/plain": [
       "<3x10 sparse matrix of type '<class 'numpy.int64'>'\n",
       "\twith 17 stored elements in Compressed Sparse Row format>"
      ]
     },
     "execution_count": 4,
     "metadata": {},
     "output_type": "execute_result"
    }
   ],
   "source": [
    "data = cv.fit_transform(example_sentences)\n",
    "data"
   ]
  },
  {
   "cell_type": "code",
   "execution_count": 6,
   "metadata": {},
   "outputs": [
    {
     "data": {
      "text/plain": [
       "array([[1, 2, 0, 0, 1, 2, 1, 0, 0, 0],\n",
       "       [2, 0, 0, 0, 1, 3, 1, 1, 3, 1],\n",
       "       [1, 0, 1, 2, 1, 2, 0, 0, 0, 0]], dtype=int64)"
      ]
     },
     "execution_count": 6,
     "metadata": {},
     "output_type": "execute_result"
    }
   ],
   "source": [
    "data.toarray()"
   ]
  },
  {
   "cell_type": "code",
   "execution_count": 7,
   "metadata": {},
   "outputs": [
    {
     "data": {
      "text/plain": [
       "['and', 'bob', 'dog', 'fido', 'happy', 'is', 'man', 'not', 'sally', 'woman']"
      ]
     },
     "execution_count": 7,
     "metadata": {},
     "output_type": "execute_result"
    }
   ],
   "source": [
    "cv.get_feature_names()"
   ]
  },
  {
   "cell_type": "markdown",
   "metadata": {},
   "source": [
    "#### Why isn't 'a' included in the features?\n",
    "Read the docs: http://scikit-learn.org/stable/modules/generated/sklearn.feature_extraction.text.CountVectorizer.html"
   ]
  },
  {
   "cell_type": "code",
   "execution_count": 8,
   "metadata": {},
   "outputs": [
    {
     "name": "stdout",
     "output_type": "stream",
     "text": [
      "[[2 0 0 1 1 0 0]\n",
      " [0 0 0 1 1 3 1]\n",
      " [0 1 2 1 0 0 0]]\n"
     ]
    },
    {
     "data": {
      "text/plain": [
       "['bob', 'dog', 'fido', 'happy', 'man', 'sally', 'woman']"
      ]
     },
     "execution_count": 8,
     "metadata": {},
     "output_type": "execute_result"
    }
   ],
   "source": [
    "cv = CountVectorizer(lowercase=True, stop_words='english')\n",
    "data = cv.fit_transform(example_sentences)\n",
    "print(data.toarray())\n",
    "cv.get_feature_names()"
   ]
  },
  {
   "cell_type": "code",
   "execution_count": 8,
   "metadata": {},
   "outputs": [
    {
     "name": "stdout",
     "output_type": "stream",
     "text": [
      "[[2 1 0]\n",
      " [0 1 3]\n",
      " [0 1 0]]\n"
     ]
    },
    {
     "data": {
      "text/plain": [
       "['bob', 'happy', 'sally']"
      ]
     },
     "execution_count": 8,
     "metadata": {},
     "output_type": "execute_result"
    }
   ],
   "source": [
    "cv = CountVectorizer(lowercase=True, stop_words='english', max_features=3)\n",
    "data = cv.fit_transform(example_sentences)\n",
    "print(data.toarray())\n",
    "cv.get_feature_names()"
   ]
  },
  {
   "cell_type": "markdown",
   "metadata": {},
   "source": [
    "#### There are cases when you only care if a word is present or not. In that case, your features would be binary (0 or 1)."
   ]
  },
  {
   "cell_type": "code",
   "execution_count": 9,
   "metadata": {},
   "outputs": [
    {
     "name": "stdout",
     "output_type": "stream",
     "text": [
      "[[1 1 1]\n",
      " [0 1 1]\n",
      " [0 1 0]]\n"
     ]
    },
    {
     "data": {
      "text/plain": [
       "['bob', 'happy', 'man']"
      ]
     },
     "execution_count": 9,
     "metadata": {},
     "output_type": "execute_result"
    }
   ],
   "source": [
    "cv = CountVectorizer(lowercase=True, stop_words='english', max_features=3, binary=True)\n",
    "data = cv.fit_transform(example_sentences)\n",
    "print(data.toarray())\n",
    "cv.get_feature_names()"
   ]
  },
  {
   "cell_type": "markdown",
   "metadata": {},
   "source": [
    "#### Why are the different features chosen?\n",
    "\n",
    "Read the docs: http://scikit-learn.org/stable/modules/generated/sklearn.feature_extraction.text.CountVectorizer.html\n"
   ]
  },
  {
   "cell_type": "markdown",
   "metadata": {},
   "source": [
    "### n-grams"
   ]
  },
  {
   "cell_type": "code",
   "execution_count": 10,
   "metadata": {},
   "outputs": [
    {
     "name": "stdout",
     "output_type": "stream",
     "text": [
      "[[1 1 0 0 0 0 1 0 0 0 0]\n",
      " [0 0 0 0 0 1 0 1 1 1 1]\n",
      " [0 0 1 1 1 0 0 0 0 0 0]]\n"
     ]
    },
    {
     "data": {
      "text/plain": [
       "['bob happy',\n",
       " 'bob man',\n",
       " 'dog fido',\n",
       " 'fido dog',\n",
       " 'fido happy',\n",
       " 'happy sally',\n",
       " 'man bob',\n",
       " 'sally happy',\n",
       " 'sally man',\n",
       " 'sally woman',\n",
       " 'woman sally']"
      ]
     },
     "execution_count": 10,
     "metadata": {},
     "output_type": "execute_result"
    }
   ],
   "source": [
    "cv = CountVectorizer(lowercase=True, stop_words='english', ngram_range=(2, 2))\n",
    "data = cv.fit_transform(example_sentences)\n",
    "print(data.toarray())\n",
    "cv.get_feature_names()"
   ]
  },
  {
   "cell_type": "markdown",
   "metadata": {},
   "source": [
    "#### If your machine is having trouble loading all of the words into memory using CountVectorizer, consider using HashingVectorizer instead.\n",
    "http://scikit-learn.org/stable/modules/feature_extraction.html#vectorizing-a-large-text-corpus-with-the-hashing-trick\n",
    "<br>\n",
    "http://scikit-learn.org/stable/modules/generated/sklearn.feature_extraction.text.HashingVectorizer.html"
   ]
  },
  {
   "cell_type": "markdown",
   "metadata": {},
   "source": [
    "You should take the time to look at all of the parameters for the CountVectorizer class. You can filter a lot of the words by using things like max_df, min_df, max_features. Be sure you take the time to understand what these parameters control. You can use cross-validation to determine which parameter settings give your model the best (or good enough results). Hyperparameters need to be tuned in the feature extraction and preprocessing steps as well. In the next lecture, we will also cover the TfIdfVectorizer which can also help you to choose better features (and less of them).\n",
    "\n",
    "You should also take the time to understand why you might want to normalize the feature vectors. Think about this. If you are going to use the frequency of the words for your bag-of-words representation, you're telling the machine learning algorithm it should consider how many times each word appears in the text (a sentence, a paragraph, a review, a document, etc.). If you  the text data you have varies in length from example to example, won't bigger documents have higher counts for some words just because there are more words? Normalization helps to remove this effect. How? Why is this good? Go forth and Google! <br> You'll notice that CountVectorizer has a norm parameter."
   ]
  },
  {
   "cell_type": "markdown",
   "metadata": {},
   "source": [
    "# Preprocessing"
   ]
  },
  {
   "cell_type": "markdown",
   "metadata": {},
   "source": [
    "#### While scikit's CountVectorizer makes transforming text into a bag-of-words representation fairly easy. You may find that you want to choose specific types of words instead or transform the words into more meaningful forms."
   ]
  },
  {
   "cell_type": "markdown",
   "metadata": {},
   "source": [
    "By now you should already know how to tokenize text into sentences and words. You also know how use spaCy to determine the parts of speech, dependency relations, noun chunks, and Named Entity types. Use this knowledge to your advantage where it makes sense."
   ]
  },
  {
   "cell_type": "code",
   "execution_count": 10,
   "metadata": {},
   "outputs": [],
   "source": [
    "example_sentences = ['Excellent phone and excellent service',\n",
    "                     'I am a business user who heavily depends on mobile service',\n",
    "                     'Good phone but bad service',\n",
    "                     'One of the worse phones I have ever had',\n",
    "                     'I bought this phone a week ago',\n",
    "                     'I am very disappointed with this device',\n",
    "                     'This is a good phone with many good features']"
   ]
  },
  {
   "cell_type": "code",
   "execution_count": 11,
   "metadata": {},
   "outputs": [],
   "source": [
    "import spacy\n",
    "\n",
    "nlp = spacy.load('en')"
   ]
  },
  {
   "cell_type": "code",
   "execution_count": 13,
   "metadata": {},
   "outputs": [],
   "source": [
    "def noun_adj_verb_filter(sentences):\n",
    "    \"\"\"\n",
    "    Only keep nouns, adjectives, and verbs in the sentence.\n",
    "    \"\"\"\n",
    "    preprocessed_sentences = []\n",
    "    keep_types = {'NOUN', 'PROPN', 'ADJ', 'VERB'}\n",
    "    \n",
    "    for sentence in sentences:\n",
    "        doc = nlp(sentence)\n",
    "        \n",
    "        keep_tokens_string = ' '.join([t.text for t in doc if t.pos_ in keep_types])\n",
    "        preprocessed_sentences.append(keep_tokens_string)\n",
    "    \n",
    "    return preprocessed_sentences"
   ]
  },
  {
   "cell_type": "code",
   "execution_count": 14,
   "metadata": {},
   "outputs": [
    {
     "data": {
      "text/plain": [
       "['Excellent phone excellent service',\n",
       " 'am business user who depends mobile service',\n",
       " 'Good phone bad service',\n",
       " 'worse phones have had',\n",
       " 'bought phone week',\n",
       " 'am disappointed device',\n",
       " 'is good phone many good features']"
      ]
     },
     "execution_count": 14,
     "metadata": {},
     "output_type": "execute_result"
    }
   ],
   "source": [
    "preproc_sents = noun_adj_verb_filter(example_sentences)\n",
    "preproc_sents"
   ]
  },
  {
   "cell_type": "code",
   "execution_count": 15,
   "metadata": {},
   "outputs": [
    {
     "name": "stdout",
     "output_type": "stream",
     "text": [
      "[[0 0 0 0 0 0 2 0 0 0 1 0 1 0 0 0]\n",
      " [0 0 1 1 0 0 0 0 0 1 0 0 1 1 0 0]\n",
      " [1 0 0 0 0 0 0 0 1 0 1 0 1 0 0 0]\n",
      " [0 0 0 0 0 0 0 0 0 0 0 1 0 0 0 1]\n",
      " [0 1 0 0 0 0 0 0 0 0 1 0 0 0 1 0]\n",
      " [0 0 0 0 1 1 0 0 0 0 0 0 0 0 0 0]\n",
      " [0 0 0 0 0 0 0 1 2 0 1 0 0 0 0 0]]\n"
     ]
    },
    {
     "data": {
      "text/plain": [
       "['bad',\n",
       " 'bought',\n",
       " 'business',\n",
       " 'depends',\n",
       " 'device',\n",
       " 'disappointed',\n",
       " 'excellent',\n",
       " 'features',\n",
       " 'good',\n",
       " 'mobile',\n",
       " 'phone',\n",
       " 'phones',\n",
       " 'service',\n",
       " 'user',\n",
       " 'week',\n",
       " 'worse']"
      ]
     },
     "execution_count": 15,
     "metadata": {},
     "output_type": "execute_result"
    }
   ],
   "source": [
    "cv = CountVectorizer(lowercase=True, stop_words='english',)\n",
    "data = cv.fit_transform(preproc_sents)\n",
    "print(data.toarray())\n",
    "cv.get_feature_names()"
   ]
  },
  {
   "cell_type": "markdown",
   "metadata": {},
   "source": [
    "Notice that some of the words are pretty useless (they don't give your model any information about whether or not the phone is good or bad. These could be added to a list of stopwords. However, don't just blindly do this because you see me doing it. It really depends on what you're trying to accomplish with your model. Say you want to predict the rating a user will give based on how he/she feels about certain aspects of the phone such as the service, the phone itself, the call quality, etc. Then those features are important to your model. Maybe your model will learn that when people mention the word phone with positive words, their overall sentiment is more positive than when positive words occur only with words such as service. Think before you do things. Think after you do things. Data Science is very much trial and error."
   ]
  },
  {
   "cell_type": "code",
   "execution_count": 16,
   "metadata": {},
   "outputs": [],
   "source": [
    "stop_words = {'phone', 'mobile', 'user', 'week'}\n",
    "\n",
    "def noun_adj_verb_filter(sentences, stop_words=None):\n",
    "    \"\"\"\n",
    "    Only keep nouns, adjectives, and verbs in the sentence. \n",
    "    Return the lemmatized form of the words.\n",
    "    \"\"\"\n",
    "    preprocessed_sentences = []\n",
    "    keep_types = {'NOUN', 'PROPN', 'ADJ', 'VERB'}\n",
    "    \n",
    "    for sentence in sentences:\n",
    "        doc = nlp(sentence)\n",
    "        \n",
    "        if stop_words is not None:\n",
    "            keep_tokens_string = ' '.join([t.lemma_ for t in doc if t.pos_ in keep_types and t.lemma_ not in stop_words])\n",
    "        else:\n",
    "            keep_tokens_string = ' '.join([t.lemma_ for t in doc if t.pos_ in keep_types])\n",
    "        preprocessed_sentences.append(keep_tokens_string)\n",
    "    \n",
    "    return preprocessed_sentences"
   ]
  },
  {
   "cell_type": "code",
   "execution_count": 17,
   "metadata": {},
   "outputs": [
    {
     "name": "stdout",
     "output_type": "stream",
     "text": [
      "[[0 0 0 0 0 0 2 0 0 1]\n",
      " [0 1 0 1 0 0 0 0 0 1]\n",
      " [1 0 0 0 0 0 0 0 1 1]\n",
      " [1 0 0 0 0 0 0 0 0 0]\n",
      " [0 0 1 0 0 0 0 0 0 0]\n",
      " [0 0 0 0 1 1 0 0 0 0]\n",
      " [0 0 0 0 0 0 0 1 2 0]]\n"
     ]
    },
    {
     "data": {
      "text/plain": [
       "['bad',\n",
       " 'business',\n",
       " 'buy',\n",
       " 'depend',\n",
       " 'device',\n",
       " 'disappointed',\n",
       " 'excellent',\n",
       " 'feature',\n",
       " 'good',\n",
       " 'service']"
      ]
     },
     "execution_count": 17,
     "metadata": {},
     "output_type": "execute_result"
    }
   ],
   "source": [
    "preproc_sents = noun_adj_verb_filter(example_sentences, stop_words=stop_words)\n",
    "cv = CountVectorizer(lowercase=True, stop_words='english',)\n",
    "data = cv.fit_transform(preproc_sents)\n",
    "print(data.toarray())\n",
    "cv.get_feature_names()"
   ]
  },
  {
   "cell_type": "markdown",
   "metadata": {},
   "source": [
    "### Building Custom Transformers in Scikit"
   ]
  },
  {
   "cell_type": "markdown",
   "metadata": {},
   "source": [
    "Scikit-learn has a wonderful API that allows you to build custom estimators and transformers that work in an identical manner to the ones included in scikit. They can be used together easily."
   ]
  },
  {
   "cell_type": "code",
   "execution_count": 19,
   "metadata": {},
   "outputs": [],
   "source": [
    "from sklearn.base import BaseEstimator, TransformerMixin"
   ]
  },
  {
   "cell_type": "code",
   "execution_count": 21,
   "metadata": {},
   "outputs": [],
   "source": [
    "class PartOfSpeechFilter(BaseEstimator, TransformerMixin):\n",
    "    def __init__(self, pos_to_keep=('NOUN', 'PROPN', 'ADJ', 'VERB'), stop_words=None):\n",
    "        self.pos_to_keep = pos_to_keep\n",
    "        self.stop_words = stop_words\n",
    "        \n",
    "    def fit(self, X, y=None):\n",
    "        return self\n",
    "        \n",
    "    def transform(self, X):\n",
    "        preprocessed_sentences = []\n",
    "        \n",
    "        for doc in nlp.pipe(X, n_threads=8):\n",
    "            if self.stop_words is not None:\n",
    "                keep_tokens_string = ' '.join([t.lemma_ for t in doc if t.pos_ in self.pos_to_keep and t.lemma_ not in self.stop_words])\n",
    "            else:\n",
    "                keep_tokens_string = ' '.join([t.lemma_ for t in doc if t.pos_ in self.pos_to_keep])\n",
    "            preprocessed_sentences.append(keep_tokens_string)\n",
    "    \n",
    "        return preprocessed_sentences "
   ]
  },
  {
   "cell_type": "code",
   "execution_count": 22,
   "metadata": {},
   "outputs": [],
   "source": [
    "posf = PartOfSpeechFilter(stop_words=stop_words)"
   ]
  },
  {
   "cell_type": "code",
   "execution_count": 23,
   "metadata": {},
   "outputs": [
    {
     "data": {
      "text/plain": [
       "['excellent excellent service',\n",
       " 'be business who depend service',\n",
       " 'good bad service',\n",
       " 'bad have have',\n",
       " 'buy',\n",
       " 'be disappointed device',\n",
       " 'be good many good feature']"
      ]
     },
     "execution_count": 23,
     "metadata": {},
     "output_type": "execute_result"
    }
   ],
   "source": [
    "preproc_sents = posf.fit_transform(example_sentences)\n",
    "preproc_sents"
   ]
  },
  {
   "cell_type": "code",
   "execution_count": 22,
   "metadata": {},
   "outputs": [
    {
     "name": "stdout",
     "output_type": "stream",
     "text": [
      "[[0 0 0 0 0 0 2 0 0 1]\n",
      " [0 1 0 1 0 0 0 0 0 1]\n",
      " [1 0 0 0 0 0 0 0 1 1]\n",
      " [1 0 0 0 0 0 0 0 0 0]\n",
      " [0 0 1 0 0 0 0 0 0 0]\n",
      " [0 0 0 0 1 1 0 0 0 0]\n",
      " [0 0 0 0 0 0 0 1 2 0]]\n"
     ]
    },
    {
     "data": {
      "text/plain": [
       "['bad',\n",
       " 'business',\n",
       " 'buy',\n",
       " 'depend',\n",
       " 'device',\n",
       " 'disappointed',\n",
       " 'excellent',\n",
       " 'feature',\n",
       " 'good',\n",
       " 'service']"
      ]
     },
     "execution_count": 22,
     "metadata": {},
     "output_type": "execute_result"
    }
   ],
   "source": [
    "cv = CountVectorizer(lowercase=True, stop_words='english',)\n",
    "data = cv.fit_transform(preproc_sents)\n",
    "print(data.toarray())\n",
    "cv.get_feature_names()"
   ]
  },
  {
   "cell_type": "markdown",
   "metadata": {},
   "source": [
    "### Chain things together using Pipeline"
   ]
  },
  {
   "cell_type": "code",
   "execution_count": 26,
   "metadata": {},
   "outputs": [],
   "source": [
    "from sklearn.pipeline import Pipeline"
   ]
  },
  {
   "cell_type": "code",
   "execution_count": 27,
   "metadata": {},
   "outputs": [],
   "source": [
    "pipeline = Pipeline([('posf', PartOfSpeechFilter(stop_words=stop_words)),\n",
    "                     ('cv', CountVectorizer(lowercase=True, stop_words='english'))\n",
    "                    ])"
   ]
  },
  {
   "cell_type": "code",
   "execution_count": 28,
   "metadata": {},
   "outputs": [
    {
     "name": "stdout",
     "output_type": "stream",
     "text": [
      "[[0 0 0 0 0 0 2 0 0 1]\n",
      " [0 1 0 1 0 0 0 0 0 1]\n",
      " [1 0 0 0 0 0 0 0 1 1]\n",
      " [1 0 0 0 0 0 0 0 0 0]\n",
      " [0 0 1 0 0 0 0 0 0 0]\n",
      " [0 0 0 0 1 1 0 0 0 0]\n",
      " [0 0 0 0 0 0 0 1 2 0]]\n"
     ]
    }
   ],
   "source": [
    "print(pipeline.fit_transform(example_sentences).toarray())"
   ]
  },
  {
   "cell_type": "code",
   "execution_count": 29,
   "metadata": {},
   "outputs": [
    {
     "data": {
      "text/plain": [
       "['bad',\n",
       " 'business',\n",
       " 'buy',\n",
       " 'depend',\n",
       " 'device',\n",
       " 'disappointed',\n",
       " 'excellent',\n",
       " 'feature',\n",
       " 'good',\n",
       " 'service']"
      ]
     },
     "execution_count": 29,
     "metadata": {},
     "output_type": "execute_result"
    }
   ],
   "source": [
    "pipeline.named_steps['cv'].get_feature_names()"
   ]
  },
  {
   "cell_type": "markdown",
   "metadata": {},
   "source": [
    "# Now for some real data"
   ]
  },
  {
   "cell_type": "code",
   "execution_count": 30,
   "metadata": {},
   "outputs": [],
   "source": [
    "import pandas as pd"
   ]
  },
  {
   "cell_type": "code",
   "execution_count": 31,
   "metadata": {},
   "outputs": [],
   "source": [
    "# data from https://www.kaggle.com/c/word2vec-nlp-tutorial\n",
    "\n",
    "df = pd.read_csv('./labeledTrainData.tsv/labeledTrainData.tsv', sep='\\t', )\n",
    "sampled_data = df.sample(n=2000, random_state=777)\n",
    "\n",
    "training, validation = df.iloc[:1000, :], df.iloc[1000:, :]"
   ]
  },
  {
   "cell_type": "code",
   "execution_count": 32,
   "metadata": {},
   "outputs": [
    {
     "data": {
      "text/html": [
       "<div>\n",
       "<style scoped>\n",
       "    .dataframe tbody tr th:only-of-type {\n",
       "        vertical-align: middle;\n",
       "    }\n",
       "\n",
       "    .dataframe tbody tr th {\n",
       "        vertical-align: top;\n",
       "    }\n",
       "\n",
       "    .dataframe thead th {\n",
       "        text-align: right;\n",
       "    }\n",
       "</style>\n",
       "<table border=\"1\" class=\"dataframe\">\n",
       "  <thead>\n",
       "    <tr style=\"text-align: right;\">\n",
       "      <th></th>\n",
       "      <th>id</th>\n",
       "      <th>sentiment</th>\n",
       "      <th>review</th>\n",
       "    </tr>\n",
       "  </thead>\n",
       "  <tbody>\n",
       "    <tr>\n",
       "      <th>0</th>\n",
       "      <td>5814_8</td>\n",
       "      <td>1</td>\n",
       "      <td>With all this stuff going down at the moment w...</td>\n",
       "    </tr>\n",
       "    <tr>\n",
       "      <th>1</th>\n",
       "      <td>2381_9</td>\n",
       "      <td>1</td>\n",
       "      <td>\\The Classic War of the Worlds\\\" by Timothy Hi...</td>\n",
       "    </tr>\n",
       "    <tr>\n",
       "      <th>2</th>\n",
       "      <td>7759_3</td>\n",
       "      <td>0</td>\n",
       "      <td>The film starts with a manager (Nicholas Bell)...</td>\n",
       "    </tr>\n",
       "    <tr>\n",
       "      <th>3</th>\n",
       "      <td>3630_4</td>\n",
       "      <td>0</td>\n",
       "      <td>It must be assumed that those who praised this...</td>\n",
       "    </tr>\n",
       "    <tr>\n",
       "      <th>4</th>\n",
       "      <td>9495_8</td>\n",
       "      <td>1</td>\n",
       "      <td>Superbly trashy and wondrously unpretentious 8...</td>\n",
       "    </tr>\n",
       "  </tbody>\n",
       "</table>\n",
       "</div>"
      ],
      "text/plain": [
       "       id  sentiment                                             review\n",
       "0  5814_8          1  With all this stuff going down at the moment w...\n",
       "1  2381_9          1  \\The Classic War of the Worlds\\\" by Timothy Hi...\n",
       "2  7759_3          0  The film starts with a manager (Nicholas Bell)...\n",
       "3  3630_4          0  It must be assumed that those who praised this...\n",
       "4  9495_8          1  Superbly trashy and wondrously unpretentious 8..."
      ]
     },
     "execution_count": 32,
     "metadata": {},
     "output_type": "execute_result"
    }
   ],
   "source": [
    "training.head()"
   ]
  },
  {
   "cell_type": "code",
   "execution_count": 30,
   "metadata": {},
   "outputs": [
    {
     "name": "stdout",
     "output_type": "stream",
     "text": [
      "With all this stuff going down at the moment with MJ i've started listening to his music, watching the odd documentary here and there, watched The Wiz and watched Moonwalker again. Maybe i just want to get a certain insight into this guy who i thought was really cool in the eighties just to maybe make up my mind whether he is guilty or innocent. Moonwalker is part biography, part feature film which i remember going to see at the cinema when it was originally released. Some of it has subtle messages about MJ's feeling towards the press and also the obvious message of drugs are bad m'kay.<br /><br />Visually impressive but of course this is all about Michael Jackson so unless you remotely like MJ in anyway then you are going to hate this and find it boring. Some may call MJ an egotist for consenting to the making of this movie BUT MJ and most of his fans would say that he made it for the fans which if true is really nice of him.<br /><br />The actual feature film bit when it finally starts is only on for 20 minutes or so excluding the Smooth Criminal sequence and Joe Pesci is convincing as a psychopathic all powerful drug lord. Why he wants MJ dead so bad is beyond me. Because MJ overheard his plans? Nah, Joe Pesci's character ranted that he wanted people to know it is he who is supplying drugs etc so i dunno, maybe he just hates MJ's music.<br /><br />Lots of cool things in this like MJ turning into a car and a robot and the whole Speed Demon sequence. Also, the director must have had the patience of a saint when it came to filming the kiddy Bad sequence as usually directors hate working with one kid let alone a whole bunch of them performing a complex dance scene.<br /><br />Bottom line, this movie is for people who like MJ on one level or another (which i think is most people). If not, then stay away. It does try and give off a wholesome message and ironically MJ's bestest buddy in this movie is a girl! Michael Jackson is truly one of the most talented people ever to grace this planet but is he guilty? Well, with all the attention i've gave this subject....hmmm well i don't know because people can be different behind closed doors, i know this for a fact. He is either an extremely nice but stupid guy or one of the most sickest liars. I hope he is not the latter.\n"
     ]
    }
   ],
   "source": [
    "print(training.iloc[0].review)"
   ]
  },
  {
   "cell_type": "markdown",
   "metadata": {},
   "source": [
    "#### The review data is dirty. We need to clean it. It looks like there are some leftover HTML tags present."
   ]
  },
  {
   "cell_type": "markdown",
   "metadata": {},
   "source": [
    "First let's separate the labels from the features."
   ]
  },
  {
   "cell_type": "code",
   "execution_count": 33,
   "metadata": {},
   "outputs": [],
   "source": [
    "X = training.loc[:, 'review']\n",
    "y = training.loc[:, 'sentiment']"
   ]
  },
  {
   "cell_type": "markdown",
   "metadata": {},
   "source": [
    "Now let's build a custom transformer to clean the HTML."
   ]
  },
  {
   "cell_type": "code",
   "execution_count": 34,
   "metadata": {},
   "outputs": [],
   "source": [
    "import bs4"
   ]
  },
  {
   "cell_type": "code",
   "execution_count": 35,
   "metadata": {},
   "outputs": [],
   "source": [
    "class CleanHTML(BaseEstimator, TransformerMixin):\n",
    "    def __init__(self, parser='html5lib'):\n",
    "        self.parser = parser\n",
    "        \n",
    "    def fit(self, X, y=None):\n",
    "        return self\n",
    "    \n",
    "    def transform(self, X, y=None):\n",
    "        return X.apply(lambda review: bs4.BeautifulSoup(review, self.parser).get_text())"
   ]
  },
  {
   "cell_type": "code",
   "execution_count": 38,
   "metadata": {},
   "outputs": [
    {
     "data": {
      "text/plain": [
       "0    With all this stuff going down at the moment w...\n",
       "1    \\The Classic War of the Worlds\\\" by Timothy Hi...\n",
       "2    The film starts with a manager (Nicholas Bell)...\n",
       "3    It must be assumed that those who praised this...\n",
       "4    Superbly trashy and wondrously unpretentious 8...\n",
       "Name: review, dtype: object"
      ]
     },
     "execution_count": 38,
     "metadata": {},
     "output_type": "execute_result"
    }
   ],
   "source": [
    "ch = CleanHTML()\n",
    "cleaned_reviews = ch.fit_transform(X)\n",
    "cleaned_reviews.head()"
   ]
  },
  {
   "cell_type": "code",
   "execution_count": 39,
   "metadata": {},
   "outputs": [
    {
     "name": "stdout",
     "output_type": "stream",
     "text": [
      "With all this stuff going down at the moment with MJ i've started listening to his music, watching the odd documentary here and there, watched The Wiz and watched Moonwalker again. Maybe i just want to get a certain insight into this guy who i thought was really cool in the eighties just to maybe make up my mind whether he is guilty or innocent. Moonwalker is part biography, part feature film which i remember going to see at the cinema when it was originally released. Some of it has subtle messages about MJ's feeling towards the press and also the obvious message of drugs are bad m'kay.Visually impressive but of course this is all about Michael Jackson so unless you remotely like MJ in anyway then you are going to hate this and find it boring. Some may call MJ an egotist for consenting to the making of this movie BUT MJ and most of his fans would say that he made it for the fans which if true is really nice of him.The actual feature film bit when it finally starts is only on for 20 minutes or so excluding the Smooth Criminal sequence and Joe Pesci is convincing as a psychopathic all powerful drug lord. Why he wants MJ dead so bad is beyond me. Because MJ overheard his plans? Nah, Joe Pesci's character ranted that he wanted people to know it is he who is supplying drugs etc so i dunno, maybe he just hates MJ's music.Lots of cool things in this like MJ turning into a car and a robot and the whole Speed Demon sequence. Also, the director must have had the patience of a saint when it came to filming the kiddy Bad sequence as usually directors hate working with one kid let alone a whole bunch of them performing a complex dance scene.Bottom line, this movie is for people who like MJ on one level or another (which i think is most people). If not, then stay away. It does try and give off a wholesome message and ironically MJ's bestest buddy in this movie is a girl! Michael Jackson is truly one of the most talented people ever to grace this planet but is he guilty? Well, with all the attention i've gave this subject....hmmm well i don't know because people can be different behind closed doors, i know this for a fact. He is either an extremely nice but stupid guy or one of the most sickest liars. I hope he is not the latter.\n"
     ]
    }
   ],
   "source": [
    "print(cleaned_reviews.iloc[0])"
   ]
  },
  {
   "cell_type": "markdown",
   "metadata": {},
   "source": [
    "That's better. Now let's do some preliminary EDA and get our bag-of-words."
   ]
  },
  {
   "cell_type": "code",
   "execution_count": 40,
   "metadata": {},
   "outputs": [],
   "source": [
    "%matplotlib inline"
   ]
  },
  {
   "cell_type": "code",
   "execution_count": 41,
   "metadata": {},
   "outputs": [
    {
     "data": {
      "text/plain": [
       "0    518\n",
       "1    482\n",
       "Name: sentiment, dtype: int64"
      ]
     },
     "execution_count": 41,
     "metadata": {},
     "output_type": "execute_result"
    }
   ],
   "source": [
    "pd.value_counts(y)"
   ]
  },
  {
   "cell_type": "code",
   "execution_count": 42,
   "metadata": {},
   "outputs": [
    {
     "data": {
      "text/plain": [
       "count    1000.000000\n",
       "mean     1294.215000\n",
       "std       940.829504\n",
       "min       127.000000\n",
       "25%       696.000000\n",
       "50%       955.500000\n",
       "75%      1602.000000\n",
       "max      5713.000000\n",
       "Name: review, dtype: float64"
      ]
     },
     "execution_count": 42,
     "metadata": {},
     "output_type": "execute_result"
    }
   ],
   "source": [
    "review_lengths = cleaned_reviews.apply(lambda r: len(r))\n",
    "review_lengths.describe()"
   ]
  },
  {
   "cell_type": "code",
   "execution_count": 43,
   "metadata": {},
   "outputs": [
    {
     "data": {
      "text/plain": [
       "<matplotlib.axes._subplots.AxesSubplot at 0x1b92997b4e0>"
      ]
     },
     "execution_count": 43,
     "metadata": {},
     "output_type": "execute_result"
    },
    {
     "data": {
      "image/png": "[encoded data removed]",
      "text/plain": [
       "<Figure size 432x288 with 1 Axes>"
      ]
     },
     "metadata": {},
     "output_type": "display_data"
    }
   ],
   "source": [
    "review_lengths.plot(kind='kde', logx=True)"
   ]
  },
  {
   "cell_type": "code",
   "execution_count": 44,
   "metadata": {},
   "outputs": [],
   "source": [
    "pipeline = Pipeline([('posf', PartOfSpeechFilter()),\n",
    "                     ('cv', CountVectorizer())\n",
    "                   ])\n",
    "\n",
    "pipeline.set_params(**{'posf__stop_words': None})\n",
    "# this is equivalent to pipeline.set_params(posf__stop_words=None), read about the * operator in python and what it does\n",
    "# https://medium.com/understand-the-python/understanding-the-asterisk-of-python-8b9daaa4a558\n",
    "pipeline.set_params(cv__max_df=0.95, cv__min_df=0.01)\n",
    "\n",
    "preproc_reviews = pipeline.fit_transform(cleaned_reviews)"
   ]
  },
  {
   "cell_type": "code",
   "execution_count": 45,
   "metadata": {},
   "outputs": [
    {
     "data": {
      "text/plain": [
       "{'cv': CountVectorizer(analyzer='word', binary=False, decode_error='strict',\n",
       "         dtype=<class 'numpy.int64'>, encoding='utf-8', input='content',\n",
       "         lowercase=True, max_df=0.95, max_features=None, min_df=0.01,\n",
       "         ngram_range=(1, 1), preprocessor=None, stop_words=None,\n",
       "         strip_accents=None, token_pattern='(?u)\\\\b\\\\w\\\\w+\\\\b',\n",
       "         tokenizer=None, vocabulary=None),\n",
       " 'posf': PartOfSpeechFilter(pos_to_keep=('NOUN', 'PROPN', 'ADJ', 'VERB'),\n",
       "           stop_words=None)}"
      ]
     },
     "execution_count": 45,
     "metadata": {},
     "output_type": "execute_result"
    }
   ],
   "source": [
    "pipeline.named_steps"
   ]
  },
  {
   "cell_type": "code",
   "execution_count": 48,
   "metadata": {},
   "outputs": [],
   "source": [
    "pipe_cv = pipeline.named_steps['cv']"
   ]
  },
  {
   "cell_type": "code",
   "execution_count": 49,
   "metadata": {},
   "outputs": [
    {
     "data": {
      "text/plain": [
       "(1000, 1530)"
      ]
     },
     "execution_count": 49,
     "metadata": {},
     "output_type": "execute_result"
    }
   ],
   "source": [
    "preproc_reviews.shape"
   ]
  },
  {
   "cell_type": "markdown",
   "metadata": {},
   "source": [
    "so we have 1000 rows and 1530 columns in our bag-of-words data. What if we want to get a count of all the words (not filtered) in the preprocessed data per article (row)?"
   ]
  },
  {
   "cell_type": "code",
   "execution_count": 44,
   "metadata": {},
   "outputs": [
    {
     "name": "stdout",
     "output_type": "stream",
     "text": [
      "Shape of result:  (1000, 1)\n"
     ]
    },
    {
     "data": {
      "text/plain": [
       "matrix([[163],\n",
       "        [ 66],\n",
       "        [129],\n",
       "        [112],\n",
       "        [144],\n",
       "        [ 40],\n",
       "        [ 51],\n",
       "        [ 56],\n",
       "        [ 55],\n",
       "        [ 18]], dtype=int64)"
      ]
     },
     "execution_count": 44,
     "metadata": {},
     "output_type": "execute_result"
    }
   ],
   "source": [
    "sum_across_rows = preproc_reviews.sum(axis=1)\n",
    "print('Shape of result: ', sum_across_rows.shape)\n",
    "sum_across_rows[:10]"
   ]
  },
  {
   "cell_type": "code",
   "execution_count": 45,
   "metadata": {},
   "outputs": [
    {
     "data": {
      "text/plain": [
       "<matplotlib.axes._subplots.AxesSubplot at 0x2480842e320>"
      ]
     },
     "execution_count": 45,
     "metadata": {},
     "output_type": "execute_result"
    },
    {
     "data": {
      "image/png": "[encoded data removed]",
      "text/plain": [
       "<Figure size 432x288 with 1 Axes>"
      ]
     },
     "metadata": {},
     "output_type": "display_data"
    }
   ],
   "source": [
    "pd.Series(sum_across_rows.A1).plot(kind='kde')"
   ]
  },
  {
   "cell_type": "markdown",
   "metadata": {},
   "source": [
    "What if we want to see the total number of times a word was used in the data?"
   ]
  },
  {
   "cell_type": "code",
   "execution_count": 50,
   "metadata": {},
   "outputs": [
    {
     "data": {
      "text/plain": [
       "(1, 1530)"
      ]
     },
     "execution_count": 50,
     "metadata": {},
     "output_type": "execute_result"
    }
   ],
   "source": [
    "sum_down_columns = preproc_reviews.sum(axis=0)\n",
    "sum_down_columns.shape"
   ]
  },
  {
   "cell_type": "code",
   "execution_count": 51,
   "metadata": {},
   "outputs": [],
   "source": [
    "counts_per_word = list(zip(pipe_cv.get_feature_names(), sum_down_columns.A1))"
   ]
  },
  {
   "cell_type": "code",
   "execution_count": 52,
   "metadata": {},
   "outputs": [
    {
     "data": {
      "text/plain": [
       "[('pron', 3301),\n",
       " ('have', 2498),\n",
       " ('film', 1964),\n",
       " ('movie', 1906),\n",
       " ('do', 1615),\n",
       " ('good', 1036),\n",
       " ('see', 881),\n",
       " ('make', 871),\n",
       " ('that', 869),\n",
       " ('who', 849)]"
      ]
     },
     "execution_count": 52,
     "metadata": {},
     "output_type": "execute_result"
    }
   ],
   "source": [
    "sorted(counts_per_word, key=lambda t: t[1], reverse=True)[:10]"
   ]
  },
  {
   "cell_type": "markdown",
   "metadata": {},
   "source": [
    "What is pron? Is it the internet slang for porn or could it be from somewhere else? How would you figure it out?"
   ]
  },
  {
   "cell_type": "markdown",
   "metadata": {},
   "source": [
    "Again, we can see that some of the terms in our top 10 are probably useless for guessing whether or not a review is positive or negative. We might consider adding some of those terms to our stopwords."
   ]
  },
  {
   "cell_type": "markdown",
   "metadata": {},
   "source": [
    "Here's an idea. What if you looked at how many times a word appeared in a positive review vs how many times it appeared in negative review?\n",
    "\n",
    "say for each word you calculate a score, maybe something like this:\n",
    "(|positive uses| - |negative uses|) / min(|positive uses|, |negative uses|) \n",
    "\n",
    "Say a word appeared in 40 positive reviews (or 40 times in positive reviews, test both) and 20 negative reviews\n",
    "It's score would be (40 - 20)/20 = 1\n",
    "\n",
    "Say a word appeared in 80 negative reviews and 20 positive reviews\n",
    "It's score would be (20 - 80)/20 = -3\n",
    "\n",
    "Say a word appeared in 60 negative reviews and 60 positive reviews\n",
    "It's score would be (60 - 60)/60 = 0\n",
    "\n",
    "The closer the score is to zero, the less it appeared in one type of review more than the other and perhaps this is an indicator of it not providing much information (signal) to the machine learning model. Maybe you could use this to filter out \"useless\" terms. Keep in mind though, perhaps a word just got unlucky and it happens to appear a lot with conflicting words. Either way, these are things you should try to think about and experiment with in your projects."
   ]
  },
  {
   "cell_type": "markdown",
   "metadata": {},
   "source": [
    "# Let's Build Some Models"
   ]
  },
  {
   "cell_type": "code",
   "execution_count": 53,
   "metadata": {},
   "outputs": [],
   "source": [
    "from sklearn.linear_model import LogisticRegression"
   ]
  },
  {
   "cell_type": "code",
   "execution_count": 54,
   "metadata": {},
   "outputs": [
    {
     "data": {
      "text/plain": [
       "LogisticRegression(C=1.0, class_weight=None, dual=False, fit_intercept=True,\n",
       "          intercept_scaling=1, max_iter=100, multi_class='ovr', n_jobs=1,\n",
       "          penalty='l2', random_state=None, solver='liblinear', tol=0.0001,\n",
       "          verbose=0, warm_start=False)"
      ]
     },
     "execution_count": 54,
     "metadata": {},
     "output_type": "execute_result"
    }
   ],
   "source": [
    "lr = LogisticRegression()\n",
    "\n",
    "lr.fit(preproc_reviews, y)"
   ]
  },
  {
   "cell_type": "markdown",
   "metadata": {},
   "source": [
    "Well, how did we do?"
   ]
  },
  {
   "cell_type": "markdown",
   "metadata": {},
   "source": [
    "Let's test it on some of our training data:"
   ]
  },
  {
   "cell_type": "code",
   "execution_count": 55,
   "metadata": {},
   "outputs": [],
   "source": [
    "training_test = X.sample(5, random_state=42)\n",
    "training_test_labels = y.loc[training_test.index]"
   ]
  },
  {
   "cell_type": "markdown",
   "metadata": {},
   "source": [
    "However, remember that our model was training on preprocessed data in a bag-of-words representation so we'd need to transform the data we want to test the model with in the same exact way."
   ]
  },
  {
   "cell_type": "code",
   "execution_count": 56,
   "metadata": {},
   "outputs": [],
   "source": [
    "preproc_training_test = pipeline.transform(training_test)"
   ]
  },
  {
   "cell_type": "code",
   "execution_count": 57,
   "metadata": {},
   "outputs": [
    {
     "data": {
      "text/plain": [
       "1.0"
      ]
     },
     "execution_count": 57,
     "metadata": {},
     "output_type": "execute_result"
    }
   ],
   "source": [
    "lr.score(preproc_training_test, training_test_labels)"
   ]
  },
  {
   "cell_type": "markdown",
   "metadata": {},
   "source": [
    "### WOW! A perfect score!\n",
    "\n",
    "The better your model does, the more skeptical you should be."
   ]
  },
  {
   "cell_type": "markdown",
   "metadata": {},
   "source": [
    "Let's see how we do over all of the training data."
   ]
  },
  {
   "cell_type": "code",
   "execution_count": 58,
   "metadata": {},
   "outputs": [
    {
     "data": {
      "text/plain": [
       "1.0"
      ]
     },
     "execution_count": 58,
     "metadata": {},
     "output_type": "execute_result"
    }
   ],
   "source": [
    "lr.score(preproc_reviews, y)"
   ]
  },
  {
   "cell_type": "code",
   "execution_count": 59,
   "metadata": {},
   "outputs": [],
   "source": [
    "from sklearn.metrics import confusion_matrix"
   ]
  },
  {
   "cell_type": "code",
   "execution_count": 60,
   "metadata": {},
   "outputs": [
    {
     "data": {
      "text/plain": [
       "array([[518,   0],\n",
       "       [  0, 482]], dtype=int64)"
      ]
     },
     "execution_count": 60,
     "metadata": {},
     "output_type": "execute_result"
    }
   ],
   "source": [
    "conf_matrix = confusion_matrix(y, lr.predict(preproc_reviews), labels=[0, 1])\n",
    "conf_matrix"
   ]
  },
  {
   "cell_type": "code",
   "execution_count": 61,
   "metadata": {},
   "outputs": [],
   "source": [
    "# a much prettier representation of the confusion matrix\n",
    "# props to this guy: https://gist.github.com/shaypal5/94c53d765083101efc0240d776a23823\n",
    "\n",
    "import pandas as pd\n",
    "import matplotlib.pyplot as plt\n",
    "import seaborn as sns\n",
    "\n",
    "def print_confusion_matrix(confusion_matrix, class_names, figsize = (10,7), fontsize=14):\n",
    "    \"\"\"Prints a confusion matrix, as returned by sklearn.metrics.confusion_matrix, as a heatmap.\n",
    "    \n",
    "    Arguments\n",
    "    ---------\n",
    "    confusion_matrix: numpy.ndarray\n",
    "        The numpy.ndarray object returned from a call to sklearn.metrics.confusion_matrix. \n",
    "        Similarly constructed ndarrays can also be used.\n",
    "    class_names: list\n",
    "        An ordered list of class names, in the order they index the given confusion matrix.\n",
    "    figsize: tuple\n",
    "        A 2-long tuple, the first value determining the horizontal size of the ouputted figure,\n",
    "        the second determining the vertical size. Defaults to (10,7).\n",
    "    fontsize: int\n",
    "        Font size for axes labels. Defaults to 14.\n",
    "        \n",
    "    Returns\n",
    "    -------\n",
    "    matplotlib.figure.Figure\n",
    "        The resulting confusion matrix figure\n",
    "    \"\"\"\n",
    "    df_cm = pd.DataFrame(\n",
    "        confusion_matrix, index=class_names, columns=class_names, \n",
    "    )\n",
    "    fig = plt.figure(figsize=figsize)\n",
    "    try:\n",
    "        heatmap = sns.heatmap(df_cm, annot=True, fmt=\"d\")\n",
    "    except ValueError:\n",
    "        raise ValueError(\"Confusion matrix values must be integers.\")\n",
    "    heatmap.yaxis.set_ticklabels(heatmap.yaxis.get_ticklabels(), rotation=0, ha='right', fontsize=fontsize)\n",
    "    heatmap.xaxis.set_ticklabels(heatmap.xaxis.get_ticklabels(), rotation=45, ha='right', fontsize=fontsize)\n",
    "    plt.ylabel('True label')\n",
    "    plt.xlabel('Predicted label')"
   ]
  },
  {
   "cell_type": "code",
   "execution_count": 58,
   "metadata": {},
   "outputs": [
    {
     "data": {
      "image/png": "[encoded data removed]",
      "text/plain": [
       "<Figure size 720x504 with 2 Axes>"
      ]
     },
     "metadata": {},
     "output_type": "display_data"
    }
   ],
   "source": [
    "print_confusion_matrix(conf_matrix, ['Positive', 'Negative'])"
   ]
  },
  {
   "cell_type": "markdown",
   "metadata": {},
   "source": [
    "So there were only two errors made, 2 false positives. Here's where you'd be overly impressed with yourself and your results (we've all done this)."
   ]
  },
  {
   "cell_type": "markdown",
   "metadata": {},
   "source": [
    "However, let's see how our model does on data it's never seen before."
   ]
  },
  {
   "cell_type": "markdown",
   "metadata": {},
   "source": [
    "![](https://upload.wikimedia.org/wikipedia/commons/2/26/Precisionrecall.svg)"
   ]
  },
  {
   "cell_type": "markdown",
   "metadata": {},
   "source": [
    "When comparing models, two popular metrics that are used are the area under the Precison-Recall curve and the area under the Receiving Operating Characteristic (ROC) curve. In both cases, area under the curve is abbreviated AUC. See here for more details:<br>\n",
    "http://scikit-learn.org/stable/auto_examples/model_selection/plot_precision_recall.html#plot-the-precision-recall-curve<br>\n",
    "http://blog.yhat.com/posts/roc-curves.html\n",
    "<br>\n",
    "<br>\n",
    "Explanations of each here:<br>\n",
    "https://classeval.wordpress.com/introduction/introduction-to-the-precision-recall-plot/<br>\n",
    "https://classeval.wordpress.com/introduction/introduction-to-the-roc-receiver-operating-characteristics-plot/"
   ]
  },
  {
   "cell_type": "code",
   "execution_count": 62,
   "metadata": {},
   "outputs": [],
   "source": [
    "from sklearn.model_selection import cross_validate"
   ]
  },
  {
   "cell_type": "code",
   "execution_count": 63,
   "metadata": {},
   "outputs": [
    {
     "data": {
      "text/plain": [
       "{'fit_time': array([0.03124142, 0.03127956, 0.0312531 , 0.01562929, 0.01562047,\n",
       "        0.01562309, 0.0156188 , 0.01565218, 0.01565194, 0.01562929]),\n",
       " 'score_time': array([0., 0., 0., 0., 0., 0., 0., 0., 0., 0.]),\n",
       " 'test_accuracy': array([0.82178218, 0.81188119, 0.82      , 0.75      , 0.77      ,\n",
       "        0.69      , 0.77      , 0.81      , 0.80808081, 0.75757576]),\n",
       " 'test_f1': array([0.80851064, 0.8       , 0.81632653, 0.7311828 , 0.77669903,\n",
       "        0.68686869, 0.78095238, 0.8       , 0.81188119, 0.74468085]),\n",
       " 'test_precision': array([0.84444444, 0.82608696, 0.8       , 0.75555556, 0.72727273,\n",
       "        0.66666667, 0.71929825, 0.80851064, 0.77358491, 0.76086957]),\n",
       " 'test_recall': array([0.7755102 , 0.7755102 , 0.83333333, 0.70833333, 0.83333333,\n",
       "        0.70833333, 0.85416667, 0.79166667, 0.85416667, 0.72916667]),\n",
       " 'train_accuracy': array([1., 1., 1., 1., 1., 1., 1., 1., 1., 1.]),\n",
       " 'train_f1': array([1., 1., 1., 1., 1., 1., 1., 1., 1., 1.]),\n",
       " 'train_precision': array([1., 1., 1., 1., 1., 1., 1., 1., 1., 1.]),\n",
       " 'train_recall': array([1., 1., 1., 1., 1., 1., 1., 1., 1., 1.])}"
      ]
     },
     "execution_count": 63,
     "metadata": {},
     "output_type": "execute_result"
    }
   ],
   "source": [
    "scores = cross_validate(lr, preproc_reviews, y, cv=10, \n",
    "                        scoring=['f1', 'precision', 'recall', 'accuracy'],\n",
    "                        return_train_score=True\n",
    "                       )\n",
    "scores"
   ]
  },
  {
   "cell_type": "markdown",
   "metadata": {},
   "source": [
    "As you can see above, the model does much worse on data it's never seen before. This is a good indicator that the model has overfit the data."
   ]
  },
  {
   "cell_type": "markdown",
   "metadata": {},
   "source": [
    "Let's try to find some optimal hyperparameters for this model."
   ]
  },
  {
   "cell_type": "code",
   "execution_count": 64,
   "metadata": {},
   "outputs": [],
   "source": [
    "from sklearn.model_selection import GridSearchCV"
   ]
  },
  {
   "cell_type": "code",
   "execution_count": 65,
   "metadata": {},
   "outputs": [
    {
     "data": {
      "text/plain": [
       "array([1.00000000e-05, 1.11111111e+04, 2.22222222e+04, 3.33333333e+04,\n",
       "       4.44444445e+04, 5.55555556e+04, 6.66666667e+04, 7.77777778e+04,\n",
       "       8.88888889e+04, 1.00000000e+05])"
      ]
     },
     "execution_count": 65,
     "metadata": {},
     "output_type": "execute_result"
    }
   ],
   "source": [
    "import numpy as np\n",
    "\n",
    "np.linspace(1e-5, 1e5, 10)"
   ]
  },
  {
   "cell_type": "code",
   "execution_count": 68,
   "metadata": {},
   "outputs": [],
   "source": [
    "# use the parameter grid to set all the values you want to test, GridSearchCV will iterate through every possible combination.\n",
    "\n",
    "param_grid = {'C': np.linspace(1e-5, 1e5, 10), 'penalty': ['l1', 'l2']}\n",
    "\n",
    "grid = GridSearchCV(lr, param_grid=param_grid, cv=10, n_jobs=-1)"
   ]
  },
  {
   "cell_type": "code",
   "execution_count": 69,
   "metadata": {},
   "outputs": [
    {
     "data": {
      "text/plain": [
       "GridSearchCV(cv=10, error_score='raise',\n",
       "       estimator=LogisticRegression(C=1.0, class_weight=None, dual=False, fit_intercept=True,\n",
       "          intercept_scaling=1, max_iter=100, multi_class='ovr', n_jobs=1,\n",
       "          penalty='l2', random_state=None, solver='liblinear', tol=0.0001,\n",
       "          verbose=0, warm_start=False),\n",
       "       fit_params=None, iid=True, n_jobs=-1,\n",
       "       param_grid={'C': array([1.00000e-05, 1.11111e+04, 2.22222e+04, 3.33333e+04, 4.44444e+04,\n",
       "       5.55556e+04, 6.66667e+04, 7.77778e+04, 8.88889e+04, 1.00000e+05]), 'penalty': ['l1', 'l2']},\n",
       "       pre_dispatch='2*n_jobs', refit=True, return_train_score='warn',\n",
       "       scoring=None, verbose=0)"
      ]
     },
     "execution_count": 69,
     "metadata": {},
     "output_type": "execute_result"
    }
   ],
   "source": [
    "grid.fit(preproc_reviews, y)"
   ]
  },
  {
   "cell_type": "code",
   "execution_count": 70,
   "metadata": {},
   "outputs": [
    {
     "data": {
      "text/plain": [
       "{'C': 11111.11112, 'penalty': 'l1'}"
      ]
     },
     "execution_count": 70,
     "metadata": {},
     "output_type": "execute_result"
    }
   ],
   "source": [
    "grid.best_params_"
   ]
  },
  {
   "cell_type": "code",
   "execution_count": 71,
   "metadata": {},
   "outputs": [
    {
     "data": {
      "text/plain": [
       "array([0.518, 0.673, 0.748, 0.73 , 0.736, 0.726, 0.724, 0.725, 0.726,\n",
       "       0.726, 0.727, 0.726, 0.726, 0.727, 0.718, 0.727, 0.723, 0.727,\n",
       "       0.74 , 0.727])"
      ]
     },
     "execution_count": 71,
     "metadata": {},
     "output_type": "execute_result"
    }
   ],
   "source": [
    "grid.cv_results_['mean_test_score']"
   ]
  },
  {
   "cell_type": "markdown",
   "metadata": {},
   "source": [
    "#### ~74% accuracy is the best we could do for the all the sets of hyperparameter combinations tested. Let's try some different models."
   ]
  },
  {
   "cell_type": "code",
   "execution_count": 72,
   "metadata": {},
   "outputs": [],
   "source": [
    "from sklearn.svm import SVC"
   ]
  },
  {
   "cell_type": "code",
   "execution_count": 76,
   "metadata": {},
   "outputs": [],
   "source": [
    "svc = SVC()\n",
    "\n",
    "scores = cross_validate(svc, preproc_reviews, y, cv=10, n_jobs=-1)"
   ]
  },
  {
   "cell_type": "code",
   "execution_count": 77,
   "metadata": {},
   "outputs": [
    {
     "name": "stderr",
     "output_type": "stream",
     "text": [
      "C:\\Users\\peluc\\Anaconda3\\envs\\nlp\\lib\\site-packages\\sklearn\\utils\\deprecation.py:122: FutureWarning: You are accessing a training score ('train_score'), which will not be available by default any more in 0.21. If you need training scores, please set return_train_score=True\n",
      "  warnings.warn(*warn_args, **warn_kwargs)\n"
     ]
    },
    {
     "data": {
      "text/plain": [
       "{'fit_time': array([0.50008154, 0.51568103, 0.51567721, 0.50008154, 0.51565313,\n",
       "        0.48443198, 0.54898739, 0.59009957, 0.55884624, 0.54321814]),\n",
       " 'score_time': array([0.04688954, 0.04690361, 0.04688239, 0.04687881, 0.04688096,\n",
       "        0.04690838, 0.04688668, 0.06250668, 0.0625062 , 0.04688144]),\n",
       " 'test_score': array([0.74257426, 0.73267327, 0.72      , 0.67      , 0.67      ,\n",
       "        0.64      , 0.74      , 0.67      , 0.68686869, 0.63636364]),\n",
       " 'train_score': array([0.7753059 , 0.76307008, 0.76      , 0.77444444, 0.77555556,\n",
       "        0.77555556, 0.77666667, 0.77555556, 0.76581576, 0.77802442])}"
      ]
     },
     "execution_count": 77,
     "metadata": {},
     "output_type": "execute_result"
    }
   ],
   "source": [
    "scores"
   ]
  },
  {
   "cell_type": "code",
   "execution_count": 78,
   "metadata": {},
   "outputs": [],
   "source": [
    "from sklearn.ensemble import RandomForestClassifier"
   ]
  },
  {
   "cell_type": "code",
   "execution_count": 79,
   "metadata": {},
   "outputs": [
    {
     "data": {
      "text/plain": [
       "{'fit_time': array([0.07813144, 0.06250644, 0.06252193, 0.0468812 , 0.0468576 ,\n",
       "        0.04690361, 0.06250596, 0.04687715, 0.07813001, 0.06253004]),\n",
       " 'score_time': array([0.        , 0.        , 0.        , 0.        , 0.        ,\n",
       "        0.        , 0.01560163, 0.        , 0.        , 0.        ]),\n",
       " 'test_score': array([0.66336634, 0.6039604 , 0.77      , 0.6       , 0.67      ,\n",
       "        0.61      , 0.7       , 0.69      , 0.6969697 , 0.72727273]),\n",
       " 'train_score': array([0.99221357, 0.99110122, 0.99      , 0.99777778, 0.99444444,\n",
       "        0.99666667, 0.99555556, 0.99111111, 0.99112098, 0.98890122])}"
      ]
     },
     "execution_count": 79,
     "metadata": {},
     "output_type": "execute_result"
    }
   ],
   "source": [
    "rf = RandomForestClassifier()\n",
    "\n",
    "scores = cross_validate(rf, preproc_reviews, y, cv=10, n_jobs=-1, return_train_score=True)\n",
    "\n",
    "scores"
   ]
  },
  {
   "cell_type": "markdown",
   "metadata": {},
   "source": [
    "It doesn't seem like any of the models are doing too well. Now would be the time where you start questioning the preprocessing that you did to the data. You can tune the hyperparameters of your transformers just like you can with your estimators."
   ]
  },
  {
   "cell_type": "code",
   "execution_count": 80,
   "metadata": {},
   "outputs": [],
   "source": [
    "pipe = Pipeline([('posf', PartOfSpeechFilter()),\n",
    "                 ('cv', CountVectorizer()),\n",
    "                 ('rf', RandomForestClassifier())\n",
    "                ])"
   ]
  },
  {
   "cell_type": "code",
   "execution_count": 81,
   "metadata": {},
   "outputs": [],
   "source": [
    "param_grid = [{'cv__max_df': np.linspace(0.95, 1.0, 2), 'cv__min_df': np.linspace(0.0, 0.05, 2),}]\n",
    "#                'rf__min_samples_split': range(2, 50, 5)\n",
    "#               },\n",
    "#               {'cv__min_df': np.linspace(0.0, 0.05, 5), 'rf__max_depth': np.linspace(5, 100, 5),\n",
    "#                'posf__parts_of_speech': [{'NOUN', 'PROPN', 'ADJ', 'VERB'}, \n",
    "#                                          {'ADJ', 'ADV', 'VERB'}\n",
    "#                                         ]\n",
    "#               }\n",
    "#              ]\n",
    "\n",
    "grid = GridSearchCV(pipe, param_grid=param_grid, verbose=2)"
   ]
  },
  {
   "cell_type": "code",
   "execution_count": 76,
   "metadata": {},
   "outputs": [
    {
     "name": "stdout",
     "output_type": "stream",
     "text": [
      "Fitting 3 folds for each of 4 candidates, totalling 12 fits\n",
      "[CV] cv__max_df=0.95, cv__min_df=0.0 .................................\n",
      "[CV] .................. cv__max_df=0.95, cv__min_df=0.0, total= 1.2min\n"
     ]
    },
    {
     "name": "stderr",
     "output_type": "stream",
     "text": [
      "[Parallel(n_jobs=1)]: Done   1 out of   1 | elapsed:  1.9min remaining:    0.0s\n"
     ]
    },
    {
     "name": "stdout",
     "output_type": "stream",
     "text": [
      "[CV] cv__max_df=0.95, cv__min_df=0.0 .................................\n",
      "[CV] .................. cv__max_df=0.95, cv__min_df=0.0, total= 1.2min\n",
      "[CV] cv__max_df=0.95, cv__min_df=0.0 .................................\n",
      "[CV] .................. cv__max_df=0.95, cv__min_df=0.0, total= 1.2min\n",
      "[CV] cv__max_df=0.95, cv__min_df=0.05 ................................\n",
      "[CV] ................. cv__max_df=0.95, cv__min_df=0.05, total= 1.2min\n",
      "[CV] cv__max_df=0.95, cv__min_df=0.05 ................................\n",
      "[CV] ................. cv__max_df=0.95, cv__min_df=0.05, total= 1.1min\n",
      "[CV] cv__max_df=0.95, cv__min_df=0.05 ................................\n",
      "[CV] ................. cv__max_df=0.95, cv__min_df=0.05, total= 1.2min\n",
      "[CV] cv__max_df=1.0, cv__min_df=0.0 ..................................\n",
      "[CV] ................... cv__max_df=1.0, cv__min_df=0.0, total= 1.2min\n",
      "[CV] cv__max_df=1.0, cv__min_df=0.0 ..................................\n",
      "[CV] ................... cv__max_df=1.0, cv__min_df=0.0, total= 1.1min\n",
      "[CV] cv__max_df=1.0, cv__min_df=0.0 ..................................\n",
      "[CV] ................... cv__max_df=1.0, cv__min_df=0.0, total= 1.2min\n",
      "[CV] cv__max_df=1.0, cv__min_df=0.05 .................................\n",
      "[CV] .................. cv__max_df=1.0, cv__min_df=0.05, total= 1.1min\n",
      "[CV] cv__max_df=1.0, cv__min_df=0.05 .................................\n",
      "[CV] .................. cv__max_df=1.0, cv__min_df=0.05, total= 1.1min\n",
      "[CV] cv__max_df=1.0, cv__min_df=0.05 .................................\n",
      "[CV] .................. cv__max_df=1.0, cv__min_df=0.05, total= 1.1min\n"
     ]
    },
    {
     "name": "stderr",
     "output_type": "stream",
     "text": [
      "[Parallel(n_jobs=1)]: Done  12 out of  12 | elapsed: 23.1min finished\n"
     ]
    },
    {
     "data": {
      "text/plain": [
       "GridSearchCV(cv=None, error_score='raise',\n",
       "       estimator=Pipeline(memory=None,\n",
       "     steps=[('posf', PartOfSpeechFilter(pos_to_keep=('NOUN', 'PROPN', 'ADJ', 'VERB'),\n",
       "          stop_words=None)), ('cv', CountVectorizer(analyzer='word', binary=False, decode_error='strict',\n",
       "        dtype=<class 'numpy.int64'>, encoding='utf-8', input='content',\n",
       "        lowercase=True, max_df=1.0, max_f...n_jobs=1,\n",
       "            oob_score=False, random_state=None, verbose=0,\n",
       "            warm_start=False))]),\n",
       "       fit_params=None, iid=True, n_jobs=1,\n",
       "       param_grid=[{'cv__max_df': array([0.95, 1.  ]), 'cv__min_df': array([0.  , 0.05])}],\n",
       "       pre_dispatch='2*n_jobs', refit=True, return_train_score='warn',\n",
       "       scoring=None, verbose=2)"
      ]
     },
     "execution_count": 76,
     "metadata": {},
     "output_type": "execute_result"
    }
   ],
   "source": [
    "grid.fit(X=cleaned_reviews, y=y)"
   ]
  },
  {
   "cell_type": "markdown",
   "metadata": {},
   "source": [
    "This runs VERY SLOWLY on Windows since you can't use n_jobs=-1. When try to use parallel processing for GridSearchCV with a Pipeline in Windows, the interpreter will stop responding. There is a workaround however. Whenever you run code like this it needs to be within a `if __name__ == '__main__'` block. In other words, you can't use this in Jupyter. You'll have to write a .py script. See here for more details:<br>\n",
    "https://github.com/scikit-learn/scikit-learn/issues/2889#issuecomment-37311446<br>\n",
    "https://docs.python.org/2/library/multiprocessing.html#windows"
   ]
  },
  {
   "cell_type": "code",
   "execution_count": 77,
   "metadata": {},
   "outputs": [
    {
     "data": {
      "text/plain": [
       "{'cv__max_df': 1.0, 'cv__min_df': 0.0}"
      ]
     },
     "execution_count": 77,
     "metadata": {},
     "output_type": "execute_result"
    }
   ],
   "source": [
    "grid.best_params_"
   ]
  },
  {
   "cell_type": "code",
   "execution_count": 80,
   "metadata": {},
   "outputs": [
    {
     "data": {
      "text/plain": [
       "Pipeline(memory=None,\n",
       "     steps=[('posf', PartOfSpeechFilter(pos_to_keep=('NOUN', 'PROPN', 'ADJ', 'VERB'),\n",
       "          stop_words=None)), ('cv', CountVectorizer(analyzer='word', binary=False, decode_error='strict',\n",
       "        dtype=<class 'numpy.int64'>, encoding='utf-8', input='content',\n",
       "        lowercase=True, max_df=1.0, max_f...n_jobs=1,\n",
       "            oob_score=False, random_state=None, verbose=0,\n",
       "            warm_start=False))])"
      ]
     },
     "execution_count": 80,
     "metadata": {},
     "output_type": "execute_result"
    }
   ],
   "source": [
    "grid.best_estimator_"
   ]
  },
  {
   "cell_type": "markdown",
   "metadata": {},
   "source": [
    "Here's where you can plot a ROC or Precision-Recall curve and calculate the AUC. You can then repeat these steps for other models and compare your AUCs. The one with the highest AUC can be argued to be the best model. Be sure to calculate this AUC on your test data set not the training set."
   ]
  },
  {
   "cell_type": "markdown",
   "metadata": {},
   "source": [
    "# Machine Learning Algorithms"
   ]
  },
  {
   "cell_type": "markdown",
   "metadata": {},
   "source": [
    "#### In the final machine learning lecture, we will cover these algorithms (and more) in detail one by one. However, in the meantime, I suggest that you look into each one. Introduction to Statistical Learning covers all of these algorithms. In addition, you can find very helpful explanatory videos on YouTube for most of these topics."
   ]
  },
  {
   "cell_type": "markdown",
   "metadata": {},
   "source": [
    "## Supervised Learning"
   ]
  },
  {
   "cell_type": "markdown",
   "metadata": {},
   "source": [
    "- kNN (Classification and Regression)\n",
    "- Linear and Logistic Regression\n",
    "- Support Vector Machines (for classification and regression)\n",
    "- Using Stochastic Gradient Descent for Classification and Regression (see SGDClassifier and SGDRegressor in Scikit)\n",
    "- Naive Bayes\n",
    "- Decision Trees\n",
    "    - Random Forests"
   ]
  },
  {
   "cell_type": "markdown",
   "metadata": {},
   "source": [
    "## Unsupervised Learning"
   ]
  },
  {
   "cell_type": "markdown",
   "metadata": {},
   "source": [
    "- [k-Means clustering](https://www.youtube.com/watch?v=_aWzGGNrcic)\n",
    "- [Mean shift clustering](https://spin.atomicobject.com/2015/05/26/mean-shift-clustering/)\n",
    "- [Singular Value Decomposition (Matrix Factorization)](http://www.ams.org/publicoutreach/feature-column/fcarc-svd)\n",
    "    - Principal Components Analysis\n",
    "    - Latent Semantic Analysis"
   ]
  },
  {
   "cell_type": "code",
   "execution_count": null,
   "metadata": {},
   "outputs": [],
   "source": []
  }
 ],
 "metadata": {
  "kernelspec": {
   "display_name": "Python 3",
   "language": "python",
   "name": "python3"
  },
  "language_info": {
   "codemirror_mode": {
    "name": "ipython",
    "version": 3
   },
   "file_extension": ".py",
   "mimetype": "text/x-python",
   "name": "python",
   "nbconvert_exporter": "python",
   "pygments_lexer": "ipython3",
   "version": "3.6.4"
  }
 },
 "nbformat": 4,
 "nbformat_minor": 2
}
